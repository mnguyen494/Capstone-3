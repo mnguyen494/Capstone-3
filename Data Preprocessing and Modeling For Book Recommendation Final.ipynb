{
 "cells": [
  {
   "cell_type": "markdown",
   "metadata": {},
   "source": [
    "# Data Preprocessing"
   ]
  },
  {
   "cell_type": "code",
   "execution_count": 1,
   "metadata": {},
   "outputs": [],
   "source": [
    "import pandas as pd\n",
    "import numpy as np\n",
    "import datetime\n",
    "import matplotlib.pyplot as plt\n",
    "import os\n",
    "import random\n",
    "import matplotlib.pyplot as plt\n",
    "import seaborn as sns\n",
    "from library.sb_utils import save_file\n",
    "from sklearn import preprocessing\n",
    "from sklearn.metrics import precision_recall_curve,precision_score,accuracy_score,roc_curve,classification_report,confusion_matrix,precision_recall_curve,auc,f1_score"
   ]
  },
  {
   "cell_type": "markdown",
   "metadata": {},
   "source": [
    "First, we will load the data and delete the unnecessary columns."
   ]
  },
  {
   "cell_type": "code",
   "execution_count": 2,
   "metadata": {},
   "outputs": [],
   "source": [
    "userbookrating=pd.read_csv('data/book_recommendation.csv')"
   ]
  },
  {
   "cell_type": "code",
   "execution_count": 3,
   "metadata": {},
   "outputs": [],
   "source": [
    "userbookrating.drop(columns=['Image-URL-S','Image-URL-M','Image-URL-L'],axis=1,inplace=True)"
   ]
  },
  {
   "cell_type": "code",
   "execution_count": 4,
   "metadata": {},
   "outputs": [
    {
     "data": {
      "text/html": [
       "<div>\n",
       "<style scoped>\n",
       "    .dataframe tbody tr th:only-of-type {\n",
       "        vertical-align: middle;\n",
       "    }\n",
       "\n",
       "    .dataframe tbody tr th {\n",
       "        vertical-align: top;\n",
       "    }\n",
       "\n",
       "    .dataframe thead th {\n",
       "        text-align: right;\n",
       "    }\n",
       "</style>\n",
       "<table border=\"1\" class=\"dataframe\">\n",
       "  <thead>\n",
       "    <tr style=\"text-align: right;\">\n",
       "      <th></th>\n",
       "      <th>User-ID</th>\n",
       "      <th>ISBN</th>\n",
       "      <th>Book-Rating</th>\n",
       "      <th>Book-Title</th>\n",
       "      <th>Book-Author</th>\n",
       "      <th>Age</th>\n",
       "    </tr>\n",
       "  </thead>\n",
       "  <tbody>\n",
       "    <tr>\n",
       "      <th>0</th>\n",
       "      <td>276725</td>\n",
       "      <td>034545104X</td>\n",
       "      <td>0</td>\n",
       "      <td>Flesh Tones: A Novel</td>\n",
       "      <td>M. J. Rose</td>\n",
       "      <td>22.0</td>\n",
       "    </tr>\n",
       "    <tr>\n",
       "      <th>1</th>\n",
       "      <td>276726</td>\n",
       "      <td>0155061224</td>\n",
       "      <td>5</td>\n",
       "      <td>Rites of Passage</td>\n",
       "      <td>Judith Rae</td>\n",
       "      <td>23.0</td>\n",
       "    </tr>\n",
       "    <tr>\n",
       "      <th>2</th>\n",
       "      <td>276729</td>\n",
       "      <td>052165615X</td>\n",
       "      <td>3</td>\n",
       "      <td>Help!: Level 1</td>\n",
       "      <td>Philip Prowse</td>\n",
       "      <td>16.0</td>\n",
       "    </tr>\n",
       "    <tr>\n",
       "      <th>3</th>\n",
       "      <td>276729</td>\n",
       "      <td>0521795028</td>\n",
       "      <td>6</td>\n",
       "      <td>The Amsterdam Connection : Level 4 (Cambridge ...</td>\n",
       "      <td>Sue Leather</td>\n",
       "      <td>16.0</td>\n",
       "    </tr>\n",
       "    <tr>\n",
       "      <th>4</th>\n",
       "      <td>276744</td>\n",
       "      <td>038550120X</td>\n",
       "      <td>7</td>\n",
       "      <td>A Painted House</td>\n",
       "      <td>JOHN GRISHAM</td>\n",
       "      <td>18.0</td>\n",
       "    </tr>\n",
       "  </tbody>\n",
       "</table>\n",
       "</div>"
      ],
      "text/plain": [
       "   User-ID        ISBN  Book-Rating  \\\n",
       "0   276725  034545104X            0   \n",
       "1   276726  0155061224            5   \n",
       "2   276729  052165615X            3   \n",
       "3   276729  0521795028            6   \n",
       "4   276744  038550120X            7   \n",
       "\n",
       "                                          Book-Title    Book-Author   Age  \n",
       "0                               Flesh Tones: A Novel     M. J. Rose  22.0  \n",
       "1                                   Rites of Passage     Judith Rae  23.0  \n",
       "2                                     Help!: Level 1  Philip Prowse  16.0  \n",
       "3  The Amsterdam Connection : Level 4 (Cambridge ...    Sue Leather  16.0  \n",
       "4                                    A Painted House   JOHN GRISHAM  18.0  "
      ]
     },
     "execution_count": 4,
     "metadata": {},
     "output_type": "execute_result"
    }
   ],
   "source": [
    "userbookrating.head()"
   ]
  },
  {
   "cell_type": "markdown",
   "metadata": {},
   "source": [
    "We will relabel the ISBN into Book-ID as numerical since it's easier to work with numerical variable than string variable."
   ]
  },
  {
   "cell_type": "code",
   "execution_count": 5,
   "metadata": {},
   "outputs": [],
   "source": [
    "from sklearn import preprocessing\n",
    "label_encoder = preprocessing.LabelEncoder()\n"
   ]
  },
  {
   "cell_type": "code",
   "execution_count": 6,
   "metadata": {},
   "outputs": [
    {
     "data": {
      "text/html": [
       "<div>\n",
       "<style scoped>\n",
       "    .dataframe tbody tr th:only-of-type {\n",
       "        vertical-align: middle;\n",
       "    }\n",
       "\n",
       "    .dataframe tbody tr th {\n",
       "        vertical-align: top;\n",
       "    }\n",
       "\n",
       "    .dataframe thead th {\n",
       "        text-align: right;\n",
       "    }\n",
       "</style>\n",
       "<table border=\"1\" class=\"dataframe\">\n",
       "  <thead>\n",
       "    <tr style=\"text-align: right;\">\n",
       "      <th></th>\n",
       "      <th>User-ID</th>\n",
       "      <th>ISBN</th>\n",
       "      <th>Book-Rating</th>\n",
       "      <th>Book-Title</th>\n",
       "      <th>Book-Author</th>\n",
       "      <th>Age</th>\n",
       "      <th>Book-ID</th>\n",
       "    </tr>\n",
       "  </thead>\n",
       "  <tbody>\n",
       "    <tr>\n",
       "      <th>0</th>\n",
       "      <td>276725</td>\n",
       "      <td>034545104X</td>\n",
       "      <td>0</td>\n",
       "      <td>Flesh Tones: A Novel</td>\n",
       "      <td>M. J. Rose</td>\n",
       "      <td>22.0</td>\n",
       "      <td>41502</td>\n",
       "    </tr>\n",
       "    <tr>\n",
       "      <th>1</th>\n",
       "      <td>276726</td>\n",
       "      <td>0155061224</td>\n",
       "      <td>5</td>\n",
       "      <td>Rites of Passage</td>\n",
       "      <td>Judith Rae</td>\n",
       "      <td>23.0</td>\n",
       "      <td>20451</td>\n",
       "    </tr>\n",
       "    <tr>\n",
       "      <th>2</th>\n",
       "      <td>276729</td>\n",
       "      <td>052165615X</td>\n",
       "      <td>3</td>\n",
       "      <td>Help!: Level 1</td>\n",
       "      <td>Philip Prowse</td>\n",
       "      <td>16.0</td>\n",
       "      <td>100709</td>\n",
       "    </tr>\n",
       "    <tr>\n",
       "      <th>3</th>\n",
       "      <td>276729</td>\n",
       "      <td>0521795028</td>\n",
       "      <td>6</td>\n",
       "      <td>The Amsterdam Connection : Level 4 (Cambridge ...</td>\n",
       "      <td>Sue Leather</td>\n",
       "      <td>16.0</td>\n",
       "      <td>100742</td>\n",
       "    </tr>\n",
       "    <tr>\n",
       "      <th>4</th>\n",
       "      <td>276744</td>\n",
       "      <td>038550120X</td>\n",
       "      <td>7</td>\n",
       "      <td>A Painted House</td>\n",
       "      <td>JOHN GRISHAM</td>\n",
       "      <td>18.0</td>\n",
       "      <td>64871</td>\n",
       "    </tr>\n",
       "  </tbody>\n",
       "</table>\n",
       "</div>"
      ],
      "text/plain": [
       "   User-ID        ISBN  Book-Rating  \\\n",
       "0   276725  034545104X            0   \n",
       "1   276726  0155061224            5   \n",
       "2   276729  052165615X            3   \n",
       "3   276729  0521795028            6   \n",
       "4   276744  038550120X            7   \n",
       "\n",
       "                                          Book-Title    Book-Author   Age  \\\n",
       "0                               Flesh Tones: A Novel     M. J. Rose  22.0   \n",
       "1                                   Rites of Passage     Judith Rae  23.0   \n",
       "2                                     Help!: Level 1  Philip Prowse  16.0   \n",
       "3  The Amsterdam Connection : Level 4 (Cambridge ...    Sue Leather  16.0   \n",
       "4                                    A Painted House   JOHN GRISHAM  18.0   \n",
       "\n",
       "   Book-ID  \n",
       "0    41502  \n",
       "1    20451  \n",
       "2   100709  \n",
       "3   100742  \n",
       "4    64871  "
      ]
     },
     "execution_count": 6,
     "metadata": {},
     "output_type": "execute_result"
    }
   ],
   "source": [
    "userbookrating['Book-ID'] = label_encoder.fit_transform(userbookrating['ISBN'])\n",
    "userbookrating.head()\n"
   ]
  },
  {
   "cell_type": "markdown",
   "metadata": {},
   "source": [
    "As shown from the histogram of \"Book-Rating\" below, there are not many books that are rate in range 1-4. In addition, there are way too much 0 ratings. Thus, we will redefine a new rating system in which books that are rated 0-6 will be labeled as 1 while the remaining books will be labeled 2. With this, books that are liked will have 2 ratings while books that are disliked will have 1 ratings."
   ]
  },
  {
   "cell_type": "code",
   "execution_count": 7,
   "metadata": {},
   "outputs": [
    {
     "data": {
      "text/plain": [
       "<AxesSubplot:xlabel='Book-Rating', ylabel='Count'>"
      ]
     },
     "execution_count": 7,
     "metadata": {},
     "output_type": "execute_result"
    },
    {
     "data": {
      "image/png": "[encoded data removed]",
      "text/plain": [
       "<Figure size 432x288 with 1 Axes>"
      ]
     },
     "metadata": {
      "needs_background": "light"
     },
     "output_type": "display_data"
    }
   ],
   "source": [
    "sns.histplot(userbookrating['Book-Rating'], binwidth=1)"
   ]
  },
  {
   "cell_type": "code",
   "execution_count": 8,
   "metadata": {},
   "outputs": [],
   "source": [
    "userbookrating['recommeded_book']=1"
   ]
  },
  {
   "cell_type": "code",
   "execution_count": 9,
   "metadata": {},
   "outputs": [],
   "source": [
    "userbookrating.loc[userbookrating['Book-Rating']>6,'recommeded_book']=2"
   ]
  },
  {
   "cell_type": "code",
   "execution_count": 10,
   "metadata": {},
   "outputs": [
    {
     "data": {
      "text/html": [
       "<div>\n",
       "<style scoped>\n",
       "    .dataframe tbody tr th:only-of-type {\n",
       "        vertical-align: middle;\n",
       "    }\n",
       "\n",
       "    .dataframe tbody tr th {\n",
       "        vertical-align: top;\n",
       "    }\n",
       "\n",
       "    .dataframe thead th {\n",
       "        text-align: right;\n",
       "    }\n",
       "</style>\n",
       "<table border=\"1\" class=\"dataframe\">\n",
       "  <thead>\n",
       "    <tr style=\"text-align: right;\">\n",
       "      <th></th>\n",
       "      <th>User-ID</th>\n",
       "      <th>ISBN</th>\n",
       "      <th>Book-Rating</th>\n",
       "      <th>Book-Title</th>\n",
       "      <th>Book-Author</th>\n",
       "      <th>Age</th>\n",
       "      <th>Book-ID</th>\n",
       "      <th>recommeded_book</th>\n",
       "    </tr>\n",
       "  </thead>\n",
       "  <tbody>\n",
       "    <tr>\n",
       "      <th>0</th>\n",
       "      <td>276725</td>\n",
       "      <td>034545104X</td>\n",
       "      <td>0</td>\n",
       "      <td>Flesh Tones: A Novel</td>\n",
       "      <td>M. J. Rose</td>\n",
       "      <td>22.0</td>\n",
       "      <td>41502</td>\n",
       "      <td>1</td>\n",
       "    </tr>\n",
       "    <tr>\n",
       "      <th>1</th>\n",
       "      <td>276726</td>\n",
       "      <td>0155061224</td>\n",
       "      <td>5</td>\n",
       "      <td>Rites of Passage</td>\n",
       "      <td>Judith Rae</td>\n",
       "      <td>23.0</td>\n",
       "      <td>20451</td>\n",
       "      <td>1</td>\n",
       "    </tr>\n",
       "    <tr>\n",
       "      <th>2</th>\n",
       "      <td>276729</td>\n",
       "      <td>052165615X</td>\n",
       "      <td>3</td>\n",
       "      <td>Help!: Level 1</td>\n",
       "      <td>Philip Prowse</td>\n",
       "      <td>16.0</td>\n",
       "      <td>100709</td>\n",
       "      <td>1</td>\n",
       "    </tr>\n",
       "    <tr>\n",
       "      <th>3</th>\n",
       "      <td>276729</td>\n",
       "      <td>0521795028</td>\n",
       "      <td>6</td>\n",
       "      <td>The Amsterdam Connection : Level 4 (Cambridge ...</td>\n",
       "      <td>Sue Leather</td>\n",
       "      <td>16.0</td>\n",
       "      <td>100742</td>\n",
       "      <td>1</td>\n",
       "    </tr>\n",
       "    <tr>\n",
       "      <th>4</th>\n",
       "      <td>276744</td>\n",
       "      <td>038550120X</td>\n",
       "      <td>7</td>\n",
       "      <td>A Painted House</td>\n",
       "      <td>JOHN GRISHAM</td>\n",
       "      <td>18.0</td>\n",
       "      <td>64871</td>\n",
       "      <td>2</td>\n",
       "    </tr>\n",
       "  </tbody>\n",
       "</table>\n",
       "</div>"
      ],
      "text/plain": [
       "   User-ID        ISBN  Book-Rating  \\\n",
       "0   276725  034545104X            0   \n",
       "1   276726  0155061224            5   \n",
       "2   276729  052165615X            3   \n",
       "3   276729  0521795028            6   \n",
       "4   276744  038550120X            7   \n",
       "\n",
       "                                          Book-Title    Book-Author   Age  \\\n",
       "0                               Flesh Tones: A Novel     M. J. Rose  22.0   \n",
       "1                                   Rites of Passage     Judith Rae  23.0   \n",
       "2                                     Help!: Level 1  Philip Prowse  16.0   \n",
       "3  The Amsterdam Connection : Level 4 (Cambridge ...    Sue Leather  16.0   \n",
       "4                                    A Painted House   JOHN GRISHAM  18.0   \n",
       "\n",
       "   Book-ID  recommeded_book  \n",
       "0    41502                1  \n",
       "1    20451                1  \n",
       "2   100709                1  \n",
       "3   100742                1  \n",
       "4    64871                2  "
      ]
     },
     "execution_count": 10,
     "metadata": {},
     "output_type": "execute_result"
    }
   ],
   "source": [
    "userbookrating.head()"
   ]
  },
  {
   "cell_type": "markdown",
   "metadata": {},
   "source": [
    "Next, we will remove books that only have 1 ratings. These books are too rare to give insightful information for our recommendation system."
   ]
  },
  {
   "cell_type": "code",
   "execution_count": 11,
   "metadata": {},
   "outputs": [],
   "source": [
    "countbook=pd.DataFrame({'Book-Title':userbookrating['Book-Title'].value_counts().index, 'occurence':userbookrating['Book-Title'].value_counts().values})\n",
    "booktodrop=countbook[countbook['occurence']<2]['Book-Title'].to_list()\n",
    "userbookrating=userbookrating[~userbookrating['Book-Title'].isin(booktodrop)]"
   ]
  },
  {
   "cell_type": "markdown",
   "metadata": {},
   "source": [
    "Similarly, we will aso remove users with less then 10 ratings."
   ]
  },
  {
   "cell_type": "code",
   "execution_count": 12,
   "metadata": {},
   "outputs": [
    {
     "data": {
      "text/plain": [
       "0         276725\n",
       "1         276726\n",
       "4         276744\n",
       "5         276746\n",
       "6         276746\n",
       "           ...  \n",
       "912425    276704\n",
       "912426    276704\n",
       "912427    276706\n",
       "912428    276709\n",
       "912429    276721\n",
       "Name: User-ID, Length: 781464, dtype: int64"
      ]
     },
     "execution_count": 12,
     "metadata": {},
     "output_type": "execute_result"
    }
   ],
   "source": [
    "userbookrating['User-ID']"
   ]
  },
  {
   "cell_type": "code",
   "execution_count": 13,
   "metadata": {},
   "outputs": [
    {
     "data": {
      "text/plain": [
       "11676     9780\n",
       "153662    4462\n",
       "35859     4451\n",
       "198711    4324\n",
       "98391     3812\n",
       "          ... \n",
       "171345       1\n",
       "148810       1\n",
       "146757       1\n",
       "206763       1\n",
       "193886       1\n",
       "Name: User-ID, Length: 79856, dtype: int64"
      ]
     },
     "execution_count": 13,
     "metadata": {},
     "output_type": "execute_result"
    }
   ],
   "source": [
    "userbookrating['User-ID'].value_counts()"
   ]
  },
  {
   "cell_type": "code",
   "execution_count": 14,
   "metadata": {},
   "outputs": [],
   "source": [
    "countuser=pd.DataFrame({'User-ID':userbookrating['User-ID'].value_counts().index, 'occurence':userbookrating['User-ID'].value_counts().values})"
   ]
  },
  {
   "cell_type": "code",
   "execution_count": 15,
   "metadata": {},
   "outputs": [
    {
     "data": {
      "text/html": [
       "<div>\n",
       "<style scoped>\n",
       "    .dataframe tbody tr th:only-of-type {\n",
       "        vertical-align: middle;\n",
       "    }\n",
       "\n",
       "    .dataframe tbody tr th {\n",
       "        vertical-align: top;\n",
       "    }\n",
       "\n",
       "    .dataframe thead th {\n",
       "        text-align: right;\n",
       "    }\n",
       "</style>\n",
       "<table border=\"1\" class=\"dataframe\">\n",
       "  <thead>\n",
       "    <tr style=\"text-align: right;\">\n",
       "      <th></th>\n",
       "      <th>User-ID</th>\n",
       "      <th>occurence</th>\n",
       "    </tr>\n",
       "  </thead>\n",
       "  <tbody>\n",
       "    <tr>\n",
       "      <th>0</th>\n",
       "      <td>11676</td>\n",
       "      <td>9780</td>\n",
       "    </tr>\n",
       "    <tr>\n",
       "      <th>1</th>\n",
       "      <td>153662</td>\n",
       "      <td>4462</td>\n",
       "    </tr>\n",
       "    <tr>\n",
       "      <th>2</th>\n",
       "      <td>35859</td>\n",
       "      <td>4451</td>\n",
       "    </tr>\n",
       "    <tr>\n",
       "      <th>3</th>\n",
       "      <td>198711</td>\n",
       "      <td>4324</td>\n",
       "    </tr>\n",
       "    <tr>\n",
       "      <th>4</th>\n",
       "      <td>98391</td>\n",
       "      <td>3812</td>\n",
       "    </tr>\n",
       "  </tbody>\n",
       "</table>\n",
       "</div>"
      ],
      "text/plain": [
       "   User-ID  occurence\n",
       "0    11676       9780\n",
       "1   153662       4462\n",
       "2    35859       4451\n",
       "3   198711       4324\n",
       "4    98391       3812"
      ]
     },
     "execution_count": 15,
     "metadata": {},
     "output_type": "execute_result"
    }
   ],
   "source": [
    "countuser.head()"
   ]
  },
  {
   "cell_type": "code",
   "execution_count": 16,
   "metadata": {},
   "outputs": [
    {
     "data": {
      "text/plain": [
       "(781464, 8)"
      ]
     },
     "execution_count": 16,
     "metadata": {},
     "output_type": "execute_result"
    }
   ],
   "source": [
    "userbookrating.shape"
   ]
  },
  {
   "cell_type": "code",
   "execution_count": 17,
   "metadata": {},
   "outputs": [],
   "source": [
    "usertodrop=countuser[countuser['occurence']<11]['User-ID'].to_list()"
   ]
  },
  {
   "cell_type": "code",
   "execution_count": 18,
   "metadata": {},
   "outputs": [],
   "source": [
    "userbookrating=userbookrating[~userbookrating['User-ID'].isin(usertodrop)]"
   ]
  },
  {
   "cell_type": "code",
   "execution_count": 19,
   "metadata": {},
   "outputs": [
    {
     "data": {
      "text/plain": [
       "(632661, 8)"
      ]
     },
     "execution_count": 19,
     "metadata": {},
     "output_type": "execute_result"
    }
   ],
   "source": [
    "userbookrating.shape"
   ]
  },
  {
   "cell_type": "code",
   "execution_count": 20,
   "metadata": {},
   "outputs": [
    {
     "data": {
      "text/plain": [
       "11676     9780\n",
       "153662    4462\n",
       "35859     4451\n",
       "198711    4324\n",
       "98391     3812\n",
       "          ... \n",
       "62592       11\n",
       "143302      11\n",
       "77499       11\n",
       "169677      11\n",
       "71081       11\n",
       "Name: User-ID, Length: 8678, dtype: int64"
      ]
     },
     "execution_count": 20,
     "metadata": {},
     "output_type": "execute_result"
    }
   ],
   "source": [
    "userbookrating['User-ID'].value_counts()"
   ]
  },
  {
   "cell_type": "code",
   "execution_count": 21,
   "metadata": {},
   "outputs": [
    {
     "name": "stdout",
     "output_type": "stream",
     "text": [
      "<class 'pandas.core.frame.DataFrame'>\n",
      "Int64Index: 632661 entries, 21 to 912426\n",
      "Data columns (total 8 columns):\n",
      " #   Column           Non-Null Count   Dtype  \n",
      "---  ------           --------------   -----  \n",
      " 0   User-ID          632661 non-null  int64  \n",
      " 1   ISBN             632661 non-null  object \n",
      " 2   Book-Rating      632661 non-null  int64  \n",
      " 3   Book-Title       632661 non-null  object \n",
      " 4   Book-Author      632661 non-null  object \n",
      " 5   Age              632661 non-null  float64\n",
      " 6   Book-ID          632661 non-null  int32  \n",
      " 7   recommeded_book  632661 non-null  int64  \n",
      "dtypes: float64(1), int32(1), int64(3), object(3)\n",
      "memory usage: 41.0+ MB\n"
     ]
    }
   ],
   "source": [
    "userbookrating.info()"
   ]
  },
  {
   "cell_type": "code",
   "execution_count": 22,
   "metadata": {},
   "outputs": [],
   "source": [
    "userbookrating.reset_index(drop=True,inplace=True)"
   ]
  },
  {
   "cell_type": "markdown",
   "metadata": {},
   "source": [
    "Now we will split the data into training set and test set."
   ]
  },
  {
   "cell_type": "code",
   "execution_count": 23,
   "metadata": {},
   "outputs": [],
   "source": [
    "#Import the train_test_split function\n",
    "from sklearn.model_selection import train_test_split\n",
    "\n",
    "#Assign X as the original ratings dataframe and y as the user_id column of ratings.\n",
    "X = userbookrating[['User-ID','Book-ID']]\n",
    "y = userbookrating['recommeded_book']\n",
    "\n",
    "#Split into training and test datasets, stratified along user_id\n",
    "X_train, X_test, y_train, y_test = train_test_split(X, y, test_size = 0.3, stratify=y, random_state=423)"
   ]
  },
  {
   "cell_type": "code",
   "execution_count": 24,
   "metadata": {},
   "outputs": [
    {
     "data": {
      "text/plain": [
       "0    1\n",
       "1    1\n",
       "2    1\n",
       "3    1\n",
       "4    1\n",
       "Name: recommeded_book, dtype: int64"
      ]
     },
     "execution_count": 24,
     "metadata": {},
     "output_type": "execute_result"
    }
   ],
   "source": [
    "y.head()"
   ]
  },
  {
   "cell_type": "code",
   "execution_count": 25,
   "metadata": {},
   "outputs": [
    {
     "data": {
      "text/html": [
       "<div>\n",
       "<style scoped>\n",
       "    .dataframe tbody tr th:only-of-type {\n",
       "        vertical-align: middle;\n",
       "    }\n",
       "\n",
       "    .dataframe tbody tr th {\n",
       "        vertical-align: top;\n",
       "    }\n",
       "\n",
       "    .dataframe thead th {\n",
       "        text-align: right;\n",
       "    }\n",
       "</style>\n",
       "<table border=\"1\" class=\"dataframe\">\n",
       "  <thead>\n",
       "    <tr style=\"text-align: right;\">\n",
       "      <th></th>\n",
       "      <th>User-ID</th>\n",
       "      <th>Book-ID</th>\n",
       "    </tr>\n",
       "  </thead>\n",
       "  <tbody>\n",
       "    <tr>\n",
       "      <th>0</th>\n",
       "      <td>276762</td>\n",
       "      <td>41237</td>\n",
       "    </tr>\n",
       "    <tr>\n",
       "      <th>1</th>\n",
       "      <td>276762</td>\n",
       "      <td>58954</td>\n",
       "    </tr>\n",
       "    <tr>\n",
       "      <th>2</th>\n",
       "      <td>276762</td>\n",
       "      <td>89546</td>\n",
       "    </tr>\n",
       "    <tr>\n",
       "      <th>3</th>\n",
       "      <td>276762</td>\n",
       "      <td>92058</td>\n",
       "    </tr>\n",
       "    <tr>\n",
       "      <th>4</th>\n",
       "      <td>276762</td>\n",
       "      <td>173275</td>\n",
       "    </tr>\n",
       "  </tbody>\n",
       "</table>\n",
       "</div>"
      ],
      "text/plain": [
       "   User-ID  Book-ID\n",
       "0   276762    41237\n",
       "1   276762    58954\n",
       "2   276762    89546\n",
       "3   276762    92058\n",
       "4   276762   173275"
      ]
     },
     "execution_count": 25,
     "metadata": {},
     "output_type": "execute_result"
    }
   ],
   "source": [
    "X.head()"
   ]
  },
  {
   "cell_type": "markdown",
   "metadata": {},
   "source": [
    "# Modeling"
   ]
  },
  {
   "cell_type": "markdown",
   "metadata": {},
   "source": [
    "First, we need to create a scoring function to evaluate the model. We will use root mean square as our metric. "
   ]
  },
  {
   "cell_type": "code",
   "execution_count": 26,
   "metadata": {},
   "outputs": [],
   "source": [
    "#Import the mean_squared_error function\n",
    "from sklearn.metrics import mean_squared_error\n",
    "\n",
    "#Function that computes the root mean squared error (or RMSE)\n",
    "def rootmeansquare(y_test, y_pred):\n",
    "    return np.sqrt(mean_squared_error(y_test, y_pred))"
   ]
  },
  {
   "cell_type": "code",
   "execution_count": 27,
   "metadata": {},
   "outputs": [],
   "source": [
    "def model_evaluation(actual_values, predicted_values, predicted_probabilities):\n",
    "    cfn_mat = confusion_matrix(actual_values,predicted_values,labels=[1, 2])\n",
    "    print(\"confusion matrix: \\n\",cfn_mat)\n",
    "    print(\"\\naccuracy: \",accuracy_score(actual_values,predicted_values))\n",
    "    print(\"\\nclassification report: \\n\", classification_report(actual_values,predicted_values))\n",
    "    # Compute ROC curve and ROC area for each class\n",
    "#     fpr = dict()\n",
    "#     tpr = dict()\n",
    "#     roc_auc = dict()\n",
    "#     for i in range(3):\n",
    "#         fpr[i], tpr[i], _ = roc_curve(actual_values[:, i], predicted_values[:, i])\n",
    "#         roc_auc[i] = auc(fpr[i], tpr[i])\n",
    "\n",
    "# # Compute micro-average ROC curve and ROC area\n",
    "#     fpr[\"micro\"], tpr[\"micro\"], _ = roc_curve(actual_values.ravel(), predicted_values.ravel())\n",
    "#     roc_auc[\"micro\"] = auc(fpr[\"micro\"], tpr[\"micro\"])\n",
    "    \n",
    "    fpr,tpr,threshold=roc_curve(actual_values, predicted_probabilities,pos_label=2)\n",
    "    print ('\\nArea under ROC curve for validation set:', auc(fpr,tpr))\n",
    "    fig, ax = plt.subplots(figsize=(6,6))\n",
    "    ax.plot(fpr,tpr,label='Validation set AUC')\n",
    "    plt.xlabel('False Positive Rate')\n",
    "    plt.ylabel('True Positive Rate')\n",
    "    ax.legend(loc='best')\n",
    "    plt.show()\n",
    "    return auc(fpr,tpr),accuracy_score(actual_values,predicted_values),precision_score(actual_values,predicted_values, pos_label=2)"
   ]
  },
  {
   "cell_type": "markdown",
   "metadata": {},
   "source": [
    "Next, we will test our model with a baseline model in which we use stratification to classify recommended book."
   ]
  },
  {
   "cell_type": "code",
   "execution_count": 28,
   "metadata": {},
   "outputs": [],
   "source": [
    "recommendedbookratio=len(y[y==2])/len(y)"
   ]
  },
  {
   "cell_type": "code",
   "execution_count": 29,
   "metadata": {},
   "outputs": [
    {
     "data": {
      "text/plain": [
       "0.24190206129348893"
      ]
     },
     "execution_count": 29,
     "metadata": {},
     "output_type": "execute_result"
    }
   ],
   "source": [
    "recommendedbookratio"
   ]
  },
  {
   "cell_type": "code",
   "execution_count": 30,
   "metadata": {},
   "outputs": [],
   "source": [
    "#Define the baseline model to always return 3.\n",
    "def stratifymodel(user, book):\n",
    "    if random.random()>recommendedbookratio:\n",
    "        return 1\n",
    "    else:\n",
    "        return 2"
   ]
  },
  {
   "cell_type": "code",
   "execution_count": 31,
   "metadata": {},
   "outputs": [],
   "source": [
    "y_pred=[stratifymodel(user, book) for (user,book) in zip(X_test['User-ID'], X_test['Book-ID'])]\n",
    "y_prob=[recommendedbookratio for i in range(len(y_test))]"
   ]
  },
  {
   "cell_type": "code",
   "execution_count": 32,
   "metadata": {},
   "outputs": [
    {
     "name": "stdout",
     "output_type": "stream",
     "text": [
      "confusion matrix: \n",
      " [[109033  34853]\n",
      " [ 34794  11119]]\n",
      "\n",
      "accuracy:  0.6330486461994004\n",
      "\n",
      "classification report: \n",
      "               precision    recall  f1-score   support\n",
      "\n",
      "           1       0.76      0.76      0.76    143886\n",
      "           2       0.24      0.24      0.24     45913\n",
      "\n",
      "    accuracy                           0.63    189799\n",
      "   macro avg       0.50      0.50      0.50    189799\n",
      "weighted avg       0.63      0.63      0.63    189799\n",
      "\n",
      "\n",
      "Area under ROC curve for validation set: 0.5\n"
     ]
    },
    {
     "data": {
      "image/png": "[encoded data removed]",
      "text/plain": [
       "<Figure size 432x432 with 1 Axes>"
      ]
     },
     "metadata": {
      "needs_background": "light"
     },
     "output_type": "display_data"
    }
   ],
   "source": [
    "aucdummy, accdummmy,predummy=model_evaluation(y_test,y_pred,y_prob)"
   ]
  },
  {
   "cell_type": "markdown",
   "metadata": {},
   "source": [
    "### Collaborative Filtering"
   ]
  },
  {
   "cell_type": "markdown",
   "metadata": {},
   "source": [
    "Next, we will build a model using collaborative filtering. Bur first, we need to build a rating matrix with the rows indicate the users, the columns imply the books, and the values are the ratings."
   ]
  },
  {
   "cell_type": "code",
   "execution_count": 33,
   "metadata": {},
   "outputs": [
    {
     "data": {
      "text/html": [
       "<div>\n",
       "<style scoped>\n",
       "    .dataframe tbody tr th:only-of-type {\n",
       "        vertical-align: middle;\n",
       "    }\n",
       "\n",
       "    .dataframe tbody tr th {\n",
       "        vertical-align: top;\n",
       "    }\n",
       "\n",
       "    .dataframe thead th {\n",
       "        text-align: right;\n",
       "    }\n",
       "</style>\n",
       "<table border=\"1\" class=\"dataframe\">\n",
       "  <thead>\n",
       "    <tr style=\"text-align: right;\">\n",
       "      <th>Book-ID</th>\n",
       "      <th>1</th>\n",
       "      <th>2</th>\n",
       "      <th>7</th>\n",
       "      <th>10</th>\n",
       "      <th>13</th>\n",
       "      <th>22</th>\n",
       "      <th>23</th>\n",
       "      <th>28</th>\n",
       "      <th>34</th>\n",
       "      <th>36</th>\n",
       "      <th>...</th>\n",
       "      <th>248779</th>\n",
       "      <th>248782</th>\n",
       "      <th>248784</th>\n",
       "      <th>248786</th>\n",
       "      <th>248788</th>\n",
       "      <th>248791</th>\n",
       "      <th>248797</th>\n",
       "      <th>248799</th>\n",
       "      <th>248801</th>\n",
       "      <th>248808</th>\n",
       "    </tr>\n",
       "    <tr>\n",
       "      <th>User-ID</th>\n",
       "      <th></th>\n",
       "      <th></th>\n",
       "      <th></th>\n",
       "      <th></th>\n",
       "      <th></th>\n",
       "      <th></th>\n",
       "      <th></th>\n",
       "      <th></th>\n",
       "      <th></th>\n",
       "      <th></th>\n",
       "      <th></th>\n",
       "      <th></th>\n",
       "      <th></th>\n",
       "      <th></th>\n",
       "      <th></th>\n",
       "      <th></th>\n",
       "      <th></th>\n",
       "      <th></th>\n",
       "      <th></th>\n",
       "      <th></th>\n",
       "      <th></th>\n",
       "    </tr>\n",
       "  </thead>\n",
       "  <tbody>\n",
       "    <tr>\n",
       "      <th>8</th>\n",
       "      <td>NaN</td>\n",
       "      <td>NaN</td>\n",
       "      <td>NaN</td>\n",
       "      <td>NaN</td>\n",
       "      <td>NaN</td>\n",
       "      <td>NaN</td>\n",
       "      <td>NaN</td>\n",
       "      <td>NaN</td>\n",
       "      <td>NaN</td>\n",
       "      <td>NaN</td>\n",
       "      <td>...</td>\n",
       "      <td>NaN</td>\n",
       "      <td>NaN</td>\n",
       "      <td>NaN</td>\n",
       "      <td>NaN</td>\n",
       "      <td>NaN</td>\n",
       "      <td>NaN</td>\n",
       "      <td>NaN</td>\n",
       "      <td>NaN</td>\n",
       "      <td>NaN</td>\n",
       "      <td>NaN</td>\n",
       "    </tr>\n",
       "    <tr>\n",
       "      <th>242</th>\n",
       "      <td>NaN</td>\n",
       "      <td>NaN</td>\n",
       "      <td>NaN</td>\n",
       "      <td>NaN</td>\n",
       "      <td>NaN</td>\n",
       "      <td>NaN</td>\n",
       "      <td>NaN</td>\n",
       "      <td>NaN</td>\n",
       "      <td>NaN</td>\n",
       "      <td>NaN</td>\n",
       "      <td>...</td>\n",
       "      <td>NaN</td>\n",
       "      <td>NaN</td>\n",
       "      <td>NaN</td>\n",
       "      <td>NaN</td>\n",
       "      <td>NaN</td>\n",
       "      <td>NaN</td>\n",
       "      <td>NaN</td>\n",
       "      <td>NaN</td>\n",
       "      <td>NaN</td>\n",
       "      <td>NaN</td>\n",
       "    </tr>\n",
       "    <tr>\n",
       "      <th>243</th>\n",
       "      <td>NaN</td>\n",
       "      <td>NaN</td>\n",
       "      <td>NaN</td>\n",
       "      <td>NaN</td>\n",
       "      <td>NaN</td>\n",
       "      <td>NaN</td>\n",
       "      <td>NaN</td>\n",
       "      <td>NaN</td>\n",
       "      <td>NaN</td>\n",
       "      <td>NaN</td>\n",
       "      <td>...</td>\n",
       "      <td>NaN</td>\n",
       "      <td>NaN</td>\n",
       "      <td>NaN</td>\n",
       "      <td>NaN</td>\n",
       "      <td>NaN</td>\n",
       "      <td>NaN</td>\n",
       "      <td>NaN</td>\n",
       "      <td>NaN</td>\n",
       "      <td>NaN</td>\n",
       "      <td>NaN</td>\n",
       "    </tr>\n",
       "    <tr>\n",
       "      <th>254</th>\n",
       "      <td>NaN</td>\n",
       "      <td>NaN</td>\n",
       "      <td>NaN</td>\n",
       "      <td>NaN</td>\n",
       "      <td>NaN</td>\n",
       "      <td>NaN</td>\n",
       "      <td>NaN</td>\n",
       "      <td>NaN</td>\n",
       "      <td>NaN</td>\n",
       "      <td>NaN</td>\n",
       "      <td>...</td>\n",
       "      <td>NaN</td>\n",
       "      <td>NaN</td>\n",
       "      <td>NaN</td>\n",
       "      <td>NaN</td>\n",
       "      <td>NaN</td>\n",
       "      <td>NaN</td>\n",
       "      <td>NaN</td>\n",
       "      <td>NaN</td>\n",
       "      <td>NaN</td>\n",
       "      <td>NaN</td>\n",
       "    </tr>\n",
       "    <tr>\n",
       "      <th>383</th>\n",
       "      <td>NaN</td>\n",
       "      <td>NaN</td>\n",
       "      <td>NaN</td>\n",
       "      <td>NaN</td>\n",
       "      <td>NaN</td>\n",
       "      <td>NaN</td>\n",
       "      <td>NaN</td>\n",
       "      <td>NaN</td>\n",
       "      <td>NaN</td>\n",
       "      <td>NaN</td>\n",
       "      <td>...</td>\n",
       "      <td>NaN</td>\n",
       "      <td>NaN</td>\n",
       "      <td>NaN</td>\n",
       "      <td>NaN</td>\n",
       "      <td>NaN</td>\n",
       "      <td>NaN</td>\n",
       "      <td>NaN</td>\n",
       "      <td>NaN</td>\n",
       "      <td>NaN</td>\n",
       "      <td>NaN</td>\n",
       "    </tr>\n",
       "  </tbody>\n",
       "</table>\n",
       "<p>5 rows × 104644 columns</p>\n",
       "</div>"
      ],
      "text/plain": [
       "Book-ID  1       2       7       10      13      22      23      28      \\\n",
       "User-ID                                                                   \n",
       "8           NaN     NaN     NaN     NaN     NaN     NaN     NaN     NaN   \n",
       "242         NaN     NaN     NaN     NaN     NaN     NaN     NaN     NaN   \n",
       "243         NaN     NaN     NaN     NaN     NaN     NaN     NaN     NaN   \n",
       "254         NaN     NaN     NaN     NaN     NaN     NaN     NaN     NaN   \n",
       "383         NaN     NaN     NaN     NaN     NaN     NaN     NaN     NaN   \n",
       "\n",
       "Book-ID  34      36      ...  248779  248782  248784  248786  248788  248791  \\\n",
       "User-ID                  ...                                                   \n",
       "8           NaN     NaN  ...     NaN     NaN     NaN     NaN     NaN     NaN   \n",
       "242         NaN     NaN  ...     NaN     NaN     NaN     NaN     NaN     NaN   \n",
       "243         NaN     NaN  ...     NaN     NaN     NaN     NaN     NaN     NaN   \n",
       "254         NaN     NaN  ...     NaN     NaN     NaN     NaN     NaN     NaN   \n",
       "383         NaN     NaN  ...     NaN     NaN     NaN     NaN     NaN     NaN   \n",
       "\n",
       "Book-ID  248797  248799  248801  248808  \n",
       "User-ID                                  \n",
       "8           NaN     NaN     NaN     NaN  \n",
       "242         NaN     NaN     NaN     NaN  \n",
       "243         NaN     NaN     NaN     NaN  \n",
       "254         NaN     NaN     NaN     NaN  \n",
       "383         NaN     NaN     NaN     NaN  \n",
       "\n",
       "[5 rows x 104644 columns]"
      ]
     },
     "execution_count": 33,
     "metadata": {},
     "output_type": "execute_result"
    }
   ],
   "source": [
    "table=X_train.copy()\n",
    "table['recommeded_book']=y_train\n",
    "rating_matrix = table.pivot_table(values='recommeded_book', index='User-ID', columns='Book-ID')\n",
    "\n",
    "rating_matrix.head()"
   ]
  },
  {
   "cell_type": "code",
   "execution_count": 34,
   "metadata": {},
   "outputs": [],
   "source": [
    "def classify(number,rate):\n",
    "    if number > rate:\n",
    "        return 2\n",
    "    else:\n",
    "        return 1"
   ]
  },
  {
   "cell_type": "code",
   "execution_count": 35,
   "metadata": {},
   "outputs": [],
   "source": [
    "def propa(number):\n",
    "    if number > 2:\n",
    "        return 1\n",
    "    elif number <1:\n",
    "        return 0\n",
    "    else:\n",
    "        return number - 1"
   ]
  },
  {
   "cell_type": "markdown",
   "metadata": {},
   "source": [
    "The first model we build will be based on simple mean."
   ]
  },
  {
   "cell_type": "code",
   "execution_count": 36,
   "metadata": {},
   "outputs": [],
   "source": [
    "#User Based Collaborative Filter using Mean Ratings\n",
    "def meanrating(user, book,rating_matrix):\n",
    "    if book in rating_matrix:\n",
    "        mean_rating = rating_matrix[book].mean()\n",
    "    else:\n",
    "        mean_rating = stratifymodel(user, book)\n",
    "    \n",
    "    return propa(mean_rating)"
   ]
  },
  {
   "cell_type": "code",
   "execution_count": 37,
   "metadata": {},
   "outputs": [],
   "source": [
    "y_prob=[meanrating(user, book,rating_matrix) for (user,book) in zip(X_test['User-ID'], X_test['Book-ID'])]\n",
    "y_pred=[classify(i,0.5) for i in y_prob]"
   ]
  },
  {
   "cell_type": "code",
   "execution_count": 38,
   "metadata": {},
   "outputs": [
    {
     "name": "stdout",
     "output_type": "stream",
     "text": [
      "confusion matrix: \n",
      " [[132259  11627]\n",
      " [ 40492   5421]]\n",
      "\n",
      "accuracy:  0.7253989747048193\n",
      "\n",
      "classification report: \n",
      "               precision    recall  f1-score   support\n",
      "\n",
      "           1       0.77      0.92      0.84    143886\n",
      "           2       0.32      0.12      0.17     45913\n",
      "\n",
      "    accuracy                           0.73    189799\n",
      "   macro avg       0.54      0.52      0.50    189799\n",
      "weighted avg       0.66      0.73      0.67    189799\n",
      "\n",
      "\n",
      "Area under ROC curve for validation set: 0.5669695829141345\n"
     ]
    },
    {
     "data": {
      "image/png": "[encoded data removed]",
      "text/plain": [
       "<Figure size 432x432 with 1 Axes>"
      ]
     },
     "metadata": {
      "needs_background": "light"
     },
     "output_type": "display_data"
    }
   ],
   "source": [
    "aucmean, accmean,premean=model_evaluation(y_test,y_pred,y_prob)"
   ]
  },
  {
   "cell_type": "markdown",
   "metadata": {},
   "source": [
    "Now, we will now apply a user-based collaborative filtering.  "
   ]
  },
  {
   "cell_type": "code",
   "execution_count": 39,
   "metadata": {},
   "outputs": [],
   "source": [
    "rating_matrix_dummy = rating_matrix.copy().fillna(0)"
   ]
  },
  {
   "cell_type": "code",
   "execution_count": 40,
   "metadata": {},
   "outputs": [],
   "source": [
    "from sklearn.metrics.pairwise import cosine_similarity\n",
    "cosine_sim = cosine_similarity(rating_matrix_dummy, rating_matrix_dummy)"
   ]
  },
  {
   "cell_type": "code",
   "execution_count": 41,
   "metadata": {},
   "outputs": [
    {
     "data": {
      "text/html": [
       "<div>\n",
       "<style scoped>\n",
       "    .dataframe tbody tr th:only-of-type {\n",
       "        vertical-align: middle;\n",
       "    }\n",
       "\n",
       "    .dataframe tbody tr th {\n",
       "        vertical-align: top;\n",
       "    }\n",
       "\n",
       "    .dataframe thead th {\n",
       "        text-align: right;\n",
       "    }\n",
       "</style>\n",
       "<table border=\"1\" class=\"dataframe\">\n",
       "  <thead>\n",
       "    <tr style=\"text-align: right;\">\n",
       "      <th>User-ID</th>\n",
       "      <th>8</th>\n",
       "      <th>242</th>\n",
       "      <th>243</th>\n",
       "      <th>254</th>\n",
       "      <th>383</th>\n",
       "      <th>388</th>\n",
       "      <th>408</th>\n",
       "      <th>424</th>\n",
       "      <th>446</th>\n",
       "      <th>487</th>\n",
       "      <th>...</th>\n",
       "      <th>278356</th>\n",
       "      <th>278390</th>\n",
       "      <th>278418</th>\n",
       "      <th>278535</th>\n",
       "      <th>278563</th>\n",
       "      <th>278582</th>\n",
       "      <th>278633</th>\n",
       "      <th>278637</th>\n",
       "      <th>278843</th>\n",
       "      <th>278851</th>\n",
       "    </tr>\n",
       "    <tr>\n",
       "      <th>User-ID</th>\n",
       "      <th></th>\n",
       "      <th></th>\n",
       "      <th></th>\n",
       "      <th></th>\n",
       "      <th></th>\n",
       "      <th></th>\n",
       "      <th></th>\n",
       "      <th></th>\n",
       "      <th></th>\n",
       "      <th></th>\n",
       "      <th></th>\n",
       "      <th></th>\n",
       "      <th></th>\n",
       "      <th></th>\n",
       "      <th></th>\n",
       "      <th></th>\n",
       "      <th></th>\n",
       "      <th></th>\n",
       "      <th></th>\n",
       "      <th></th>\n",
       "      <th></th>\n",
       "    </tr>\n",
       "  </thead>\n",
       "  <tbody>\n",
       "    <tr>\n",
       "      <th>8</th>\n",
       "      <td>1.0</td>\n",
       "      <td>0.0</td>\n",
       "      <td>0.000000</td>\n",
       "      <td>0.000000</td>\n",
       "      <td>0.000000</td>\n",
       "      <td>0.0</td>\n",
       "      <td>0.0</td>\n",
       "      <td>0.000000</td>\n",
       "      <td>0.000000</td>\n",
       "      <td>0.000000</td>\n",
       "      <td>...</td>\n",
       "      <td>0.000000</td>\n",
       "      <td>0.000000</td>\n",
       "      <td>0.000000</td>\n",
       "      <td>0.000000</td>\n",
       "      <td>0.0</td>\n",
       "      <td>0.0</td>\n",
       "      <td>0.000000</td>\n",
       "      <td>0.0</td>\n",
       "      <td>0.000000</td>\n",
       "      <td>0.0</td>\n",
       "    </tr>\n",
       "    <tr>\n",
       "      <th>242</th>\n",
       "      <td>0.0</td>\n",
       "      <td>1.0</td>\n",
       "      <td>0.000000</td>\n",
       "      <td>0.000000</td>\n",
       "      <td>0.000000</td>\n",
       "      <td>0.0</td>\n",
       "      <td>0.0</td>\n",
       "      <td>0.000000</td>\n",
       "      <td>0.000000</td>\n",
       "      <td>0.028172</td>\n",
       "      <td>...</td>\n",
       "      <td>0.000000</td>\n",
       "      <td>0.000000</td>\n",
       "      <td>0.000000</td>\n",
       "      <td>0.000000</td>\n",
       "      <td>0.0</td>\n",
       "      <td>0.0</td>\n",
       "      <td>0.000000</td>\n",
       "      <td>0.0</td>\n",
       "      <td>0.000000</td>\n",
       "      <td>0.0</td>\n",
       "    </tr>\n",
       "    <tr>\n",
       "      <th>243</th>\n",
       "      <td>0.0</td>\n",
       "      <td>0.0</td>\n",
       "      <td>1.000000</td>\n",
       "      <td>0.015876</td>\n",
       "      <td>0.000000</td>\n",
       "      <td>0.0</td>\n",
       "      <td>0.0</td>\n",
       "      <td>0.000000</td>\n",
       "      <td>0.047538</td>\n",
       "      <td>0.000000</td>\n",
       "      <td>...</td>\n",
       "      <td>0.000000</td>\n",
       "      <td>0.000000</td>\n",
       "      <td>0.017165</td>\n",
       "      <td>0.062541</td>\n",
       "      <td>0.0</td>\n",
       "      <td>0.0</td>\n",
       "      <td>0.025909</td>\n",
       "      <td>0.0</td>\n",
       "      <td>0.035109</td>\n",
       "      <td>0.0</td>\n",
       "    </tr>\n",
       "    <tr>\n",
       "      <th>254</th>\n",
       "      <td>0.0</td>\n",
       "      <td>0.0</td>\n",
       "      <td>0.015876</td>\n",
       "      <td>1.000000</td>\n",
       "      <td>0.024891</td>\n",
       "      <td>0.0</td>\n",
       "      <td>0.0</td>\n",
       "      <td>0.055951</td>\n",
       "      <td>0.000000</td>\n",
       "      <td>0.000000</td>\n",
       "      <td>...</td>\n",
       "      <td>0.040647</td>\n",
       "      <td>0.009891</td>\n",
       "      <td>0.008039</td>\n",
       "      <td>0.000000</td>\n",
       "      <td>0.0</td>\n",
       "      <td>0.0</td>\n",
       "      <td>0.000000</td>\n",
       "      <td>0.0</td>\n",
       "      <td>0.016443</td>\n",
       "      <td>0.0</td>\n",
       "    </tr>\n",
       "    <tr>\n",
       "      <th>383</th>\n",
       "      <td>0.0</td>\n",
       "      <td>0.0</td>\n",
       "      <td>0.000000</td>\n",
       "      <td>0.024891</td>\n",
       "      <td>1.000000</td>\n",
       "      <td>0.0</td>\n",
       "      <td>0.0</td>\n",
       "      <td>0.000000</td>\n",
       "      <td>0.000000</td>\n",
       "      <td>0.000000</td>\n",
       "      <td>...</td>\n",
       "      <td>0.000000</td>\n",
       "      <td>0.000000</td>\n",
       "      <td>0.000000</td>\n",
       "      <td>0.000000</td>\n",
       "      <td>0.0</td>\n",
       "      <td>0.0</td>\n",
       "      <td>0.000000</td>\n",
       "      <td>0.0</td>\n",
       "      <td>0.000000</td>\n",
       "      <td>0.0</td>\n",
       "    </tr>\n",
       "  </tbody>\n",
       "</table>\n",
       "<p>5 rows × 8678 columns</p>\n",
       "</div>"
      ],
      "text/plain": [
       "User-ID  8       242       243       254       383     388     408     \\\n",
       "User-ID                                                                 \n",
       "8           1.0     0.0  0.000000  0.000000  0.000000     0.0     0.0   \n",
       "242         0.0     1.0  0.000000  0.000000  0.000000     0.0     0.0   \n",
       "243         0.0     0.0  1.000000  0.015876  0.000000     0.0     0.0   \n",
       "254         0.0     0.0  0.015876  1.000000  0.024891     0.0     0.0   \n",
       "383         0.0     0.0  0.000000  0.024891  1.000000     0.0     0.0   \n",
       "\n",
       "User-ID    424       446       487     ...    278356    278390    278418  \\\n",
       "User-ID                                ...                                 \n",
       "8        0.000000  0.000000  0.000000  ...  0.000000  0.000000  0.000000   \n",
       "242      0.000000  0.000000  0.028172  ...  0.000000  0.000000  0.000000   \n",
       "243      0.000000  0.047538  0.000000  ...  0.000000  0.000000  0.017165   \n",
       "254      0.055951  0.000000  0.000000  ...  0.040647  0.009891  0.008039   \n",
       "383      0.000000  0.000000  0.000000  ...  0.000000  0.000000  0.000000   \n",
       "\n",
       "User-ID    278535  278563  278582    278633  278637    278843  278851  \n",
       "User-ID                                                                \n",
       "8        0.000000     0.0     0.0  0.000000     0.0  0.000000     0.0  \n",
       "242      0.000000     0.0     0.0  0.000000     0.0  0.000000     0.0  \n",
       "243      0.062541     0.0     0.0  0.025909     0.0  0.035109     0.0  \n",
       "254      0.000000     0.0     0.0  0.000000     0.0  0.016443     0.0  \n",
       "383      0.000000     0.0     0.0  0.000000     0.0  0.000000     0.0  \n",
       "\n",
       "[5 rows x 8678 columns]"
      ]
     },
     "execution_count": 41,
     "metadata": {},
     "output_type": "execute_result"
    }
   ],
   "source": [
    "cosine_sim = pd.DataFrame(cosine_sim, index=rating_matrix.index, columns=rating_matrix.index)\n",
    "cosine_sim.head(5)"
   ]
  },
  {
   "cell_type": "code",
   "execution_count": 42,
   "metadata": {},
   "outputs": [],
   "source": [
    "#User Based Collaborative Filter using Weighted Mean Ratings\n",
    "def wmeanrating(user, book,rating_matrix,cosine_sim):\n",
    "    \n",
    "    #Check if book exists in r_matrix\n",
    "    if book in rating_matrix:\n",
    "        \n",
    "        #Get the similarity scores for the user in question with every other user\n",
    "        sim_scores = cosine_sim[user]\n",
    "        \n",
    "        #Get the user ratings for the book in question\n",
    "        m_ratings = rating_matrix[book]\n",
    "        \n",
    "        #Extract the indices containing NaN in the m_ratings series\n",
    "        idx = m_ratings[m_ratings.isnull()].index\n",
    "        \n",
    "        #Drop the NaN values from the m_ratings Series\n",
    "        m_ratings = m_ratings.dropna()\n",
    "        \n",
    "        #Drop the corresponding cosine scores from the sim_scores series\n",
    "        sim_scores = sim_scores.drop(idx)\n",
    "        \n",
    "        #Compute the final weighted mean\n",
    "#         if sim_scores.sum() > 0.001:\n",
    "        if np.dot(sim_scores, m_ratings) < 3*sim_scores.sum():\n",
    "            wmean_rating = propa(np.dot(sim_scores, m_ratings)/ sim_scores.sum())\n",
    "        else:\n",
    "            wmean_rating = propa(meanrating(user, book,rating_matrix))\n",
    "    \n",
    "    else:\n",
    "        #Default to a rating of 3.0 in the absence of any information\n",
    "        wmean_rating = recommendedbookratio\n",
    "    \n",
    "    return wmean_rating"
   ]
  },
  {
   "cell_type": "code",
   "execution_count": 43,
   "metadata": {},
   "outputs": [],
   "source": [
    "y_prob=[wmeanrating(user, book,rating_matrix,cosine_sim) for (user,book) in zip(X_test['User-ID'], X_test['Book-ID'])]\n",
    "y_pred=[classify(i,0.5) for i in y_prob]"
   ]
  },
  {
   "cell_type": "code",
   "execution_count": 44,
   "metadata": {},
   "outputs": [
    {
     "name": "stdout",
     "output_type": "stream",
     "text": [
      "confusion matrix: \n",
      " [[130351  13535]\n",
      " [ 39157   6756]]\n",
      "\n",
      "accuracy:  0.7223799914646547\n",
      "\n",
      "classification report: \n",
      "               precision    recall  f1-score   support\n",
      "\n",
      "           1       0.77      0.91      0.83    143886\n",
      "           2       0.33      0.15      0.20     45913\n",
      "\n",
      "    accuracy                           0.72    189799\n",
      "   macro avg       0.55      0.53      0.52    189799\n",
      "weighted avg       0.66      0.72      0.68    189799\n",
      "\n",
      "\n",
      "Area under ROC curve for validation set: 0.5573107475388386\n"
     ]
    },
    {
     "data": {
      "image/png": "[encoded data removed]",
      "text/plain": [
       "<Figure size 432x432 with 1 Axes>"
      ]
     },
     "metadata": {
      "needs_background": "light"
     },
     "output_type": "display_data"
    }
   ],
   "source": [
    "aucwmean, accwmean,prewmean=model_evaluation(y_test,y_pred,y_prob)"
   ]
  },
  {
   "cell_type": "markdown",
   "metadata": {},
   "source": [
    "### Modeling Using The Surprise Scykit "
   ]
  },
  {
   "cell_type": "markdown",
   "metadata": {},
   "source": [
    "First, we need to import the necessary modules and prepare the data."
   ]
  },
  {
   "cell_type": "code",
   "execution_count": 45,
   "metadata": {},
   "outputs": [],
   "source": [
    "from surprise import Dataset\n",
    "from surprise import accuracy\n",
    "from surprise.model_selection import train_test_split\n",
    "from surprise import Reader\n",
    "\n",
    "reader = Reader()\n",
    "data = Dataset.load_from_df(userbookrating[['User-ID','Book-ID','recommeded_book']], reader)\n",
    "model_train, model_test = train_test_split(data, test_size=.3)"
   ]
  },
  {
   "cell_type": "markdown",
   "metadata": {},
   "source": [
    "The first model is K-NN."
   ]
  },
  {
   "cell_type": "code",
   "execution_count": 46,
   "metadata": {},
   "outputs": [
    {
     "name": "stdout",
     "output_type": "stream",
     "text": [
      "Computing the msd similarity matrix...\n",
      "Done computing similarity matrix.\n",
      "RMSE: 0.4615\n"
     ]
    }
   ],
   "source": [
    "from surprise import KNNBasic\n",
    "knn = KNNBasic()\n",
    "knn.fit(model_train)\n",
    "predictions = knn.test(model_test)\n",
    "knnscore=accuracy.rmse(predictions)"
   ]
  },
  {
   "cell_type": "code",
   "execution_count": 47,
   "metadata": {},
   "outputs": [],
   "source": [
    "y_test=[predictions[i].r_ui for i in range(len(predictions))]\n",
    "y_prob=[propa(predictions[i].est) for i in range(len(predictions))]\n",
    "y_pred=[classify(i,0.5) for i in y_prob]"
   ]
  },
  {
   "cell_type": "code",
   "execution_count": 48,
   "metadata": {},
   "outputs": [
    {
     "name": "stdout",
     "output_type": "stream",
     "text": [
      "confusion matrix: \n",
      " [[133977  10419]\n",
      " [ 39997   5406]]\n",
      "\n",
      "accuracy:  0.7343716247187815\n",
      "\n",
      "classification report: \n",
      "               precision    recall  f1-score   support\n",
      "\n",
      "         1.0       0.77      0.93      0.84    144396\n",
      "         2.0       0.34      0.12      0.18     45403\n",
      "\n",
      "    accuracy                           0.73    189799\n",
      "   macro avg       0.56      0.52      0.51    189799\n",
      "weighted avg       0.67      0.73      0.68    189799\n",
      "\n",
      "\n",
      "Area under ROC curve for validation set: 0.5810946689711678\n"
     ]
    },
    {
     "data": {
      "image/png": "[encoded data removed]",
      "text/plain": [
       "<Figure size 432x432 with 1 Axes>"
      ]
     },
     "metadata": {
      "needs_background": "light"
     },
     "output_type": "display_data"
    }
   ],
   "source": [
    "aucknn, accknn,preknn=model_evaluation(y_test,y_pred,y_prob)"
   ]
  },
  {
   "cell_type": "markdown",
   "metadata": {},
   "source": [
    "Next is K-NN Baseline"
   ]
  },
  {
   "cell_type": "code",
   "execution_count": 49,
   "metadata": {},
   "outputs": [
    {
     "name": "stdout",
     "output_type": "stream",
     "text": [
      "Estimating biases using als...\n",
      "Computing the msd similarity matrix...\n",
      "Done computing similarity matrix.\n",
      "RMSE: 0.4162\n"
     ]
    }
   ],
   "source": [
    "from surprise import KNNBaseline\n",
    "knnbaseline = KNNBaseline()\n",
    "knnbaseline.fit(model_train)\n",
    "predictions = knnbaseline.test(model_test)\n",
    "knnbaselinescore=accuracy.rmse(predictions)"
   ]
  },
  {
   "cell_type": "code",
   "execution_count": 50,
   "metadata": {},
   "outputs": [],
   "source": [
    "y_test=[predictions[i].r_ui for i in range(len(predictions))]\n",
    "y_prob=[propa(predictions[i].est) for i in range(len(predictions))]\n",
    "y_pred=[classify(i,0.5) for i in y_prob]"
   ]
  },
  {
   "cell_type": "code",
   "execution_count": 51,
   "metadata": {},
   "outputs": [
    {
     "name": "stdout",
     "output_type": "stream",
     "text": [
      "confusion matrix: \n",
      " [[131886  12510]\n",
      " [ 32733  12670]]\n",
      "\n",
      "accuracy:  0.7616267735867944\n",
      "\n",
      "classification report: \n",
      "               precision    recall  f1-score   support\n",
      "\n",
      "         1.0       0.80      0.91      0.85    144396\n",
      "         2.0       0.50      0.28      0.36     45403\n",
      "\n",
      "    accuracy                           0.76    189799\n",
      "   macro avg       0.65      0.60      0.61    189799\n",
      "weighted avg       0.73      0.76      0.74    189799\n",
      "\n",
      "\n",
      "Area under ROC curve for validation set: 0.7261848071950052\n"
     ]
    },
    {
     "data": {
      "image/png": "[encoded data removed]",
      "text/plain": [
       "<Figure size 432x432 with 1 Axes>"
      ]
     },
     "metadata": {
      "needs_background": "light"
     },
     "output_type": "display_data"
    }
   ],
   "source": [
    "aucknnbaseline, accknnbaseline,preknnbaseline=model_evaluation(y_test,y_pred,y_prob)"
   ]
  },
  {
   "cell_type": "markdown",
   "metadata": {},
   "source": [
    "Next is SVD."
   ]
  },
  {
   "cell_type": "code",
   "execution_count": 52,
   "metadata": {},
   "outputs": [
    {
     "name": "stdout",
     "output_type": "stream",
     "text": [
      "RMSE: 0.3893\n"
     ]
    }
   ],
   "source": [
    "from surprise import SVD\n",
    "svdmodel = SVD()\n",
    "svdmodel.fit(model_train)\n",
    "predictions = svdmodel.test(model_test)\n",
    "svdscore=accuracy.rmse(predictions)"
   ]
  },
  {
   "cell_type": "code",
   "execution_count": 53,
   "metadata": {},
   "outputs": [],
   "source": [
    "y_test=[predictions[i].r_ui for i in range(len(predictions))]\n",
    "y_prob=[propa(predictions[i].est) for i in range(len(predictions))]\n",
    "y_pred=[classify(i,0.5) for i in y_prob]"
   ]
  },
  {
   "cell_type": "code",
   "execution_count": 54,
   "metadata": {},
   "outputs": [
    {
     "name": "stdout",
     "output_type": "stream",
     "text": [
      "confusion matrix: \n",
      " [[136054   8342]\n",
      " [ 32570  12833]]\n",
      "\n",
      "accuracy:  0.7844456503985795\n",
      "\n",
      "classification report: \n",
      "               precision    recall  f1-score   support\n",
      "\n",
      "         1.0       0.81      0.94      0.87    144396\n",
      "         2.0       0.61      0.28      0.39     45403\n",
      "\n",
      "    accuracy                           0.78    189799\n",
      "   macro avg       0.71      0.61      0.63    189799\n",
      "weighted avg       0.76      0.78      0.75    189799\n",
      "\n",
      "\n",
      "Area under ROC curve for validation set: 0.7600105000760106\n"
     ]
    },
    {
     "data": {
      "image/png": "[encoded data removed]",
      "text/plain": [
       "<Figure size 432x432 with 1 Axes>"
      ]
     },
     "metadata": {
      "needs_background": "light"
     },
     "output_type": "display_data"
    }
   ],
   "source": [
    "aucsvd, accsvd,presvd=model_evaluation(y_test,y_pred,y_prob)"
   ]
  },
  {
   "cell_type": "markdown",
   "metadata": {},
   "source": [
    "Next is NMF."
   ]
  },
  {
   "cell_type": "code",
   "execution_count": 55,
   "metadata": {},
   "outputs": [
    {
     "name": "stdout",
     "output_type": "stream",
     "text": [
      "RMSE: 0.4163\n"
     ]
    }
   ],
   "source": [
    "from surprise import NMF\n",
    "nmfmodel = NMF()\n",
    "nmfmodel.fit(model_train)\n",
    "predictions = nmfmodel.test(model_test)\n",
    "nmfscore=accuracy.rmse(predictions)"
   ]
  },
  {
   "cell_type": "code",
   "execution_count": 56,
   "metadata": {},
   "outputs": [],
   "source": [
    "y_test=[predictions[i].r_ui for i in range(len(predictions))]\n",
    "y_prob=[propa(predictions[i].est) for i in range(len(predictions))]\n",
    "y_pred=[classify(i,0.5) for i in y_prob]"
   ]
  },
  {
   "cell_type": "code",
   "execution_count": 57,
   "metadata": {},
   "outputs": [
    {
     "name": "stdout",
     "output_type": "stream",
     "text": [
      "confusion matrix: \n",
      " [[137450   6946]\n",
      " [ 36240   9163]]\n",
      "\n",
      "accuracy:  0.7724645546077693\n",
      "\n",
      "classification report: \n",
      "               precision    recall  f1-score   support\n",
      "\n",
      "         1.0       0.79      0.95      0.86    144396\n",
      "         2.0       0.57      0.20      0.30     45403\n",
      "\n",
      "    accuracy                           0.77    189799\n",
      "   macro avg       0.68      0.58      0.58    189799\n",
      "weighted avg       0.74      0.77      0.73    189799\n",
      "\n",
      "\n",
      "Area under ROC curve for validation set: 0.6951257374745201\n"
     ]
    },
    {
     "data": {
      "image/png": "[encoded data removed]",
      "text/plain": [
       "<Figure size 432x432 with 1 Axes>"
      ]
     },
     "metadata": {
      "needs_background": "light"
     },
     "output_type": "display_data"
    }
   ],
   "source": [
    "aucnmf, accnmf,prenmf=model_evaluation(y_test,y_pred,y_prob)"
   ]
  },
  {
   "cell_type": "markdown",
   "metadata": {},
   "source": [
    "Next is Co-Clustering."
   ]
  },
  {
   "cell_type": "code",
   "execution_count": 58,
   "metadata": {},
   "outputs": [
    {
     "name": "stdout",
     "output_type": "stream",
     "text": [
      "RMSE: 0.4305\n"
     ]
    }
   ],
   "source": [
    "from surprise import CoClustering\n",
    "coclustermodel = CoClustering()\n",
    "coclustermodel.fit(model_train)\n",
    "predictions = coclustermodel.test(model_test)\n",
    "coclusterscore=accuracy.rmse(predictions)"
   ]
  },
  {
   "cell_type": "code",
   "execution_count": 59,
   "metadata": {},
   "outputs": [],
   "source": [
    "y_test=[predictions[i].r_ui for i in range(len(predictions))]\n",
    "y_prob=[propa(predictions[i].est) for i in range(len(predictions))]\n",
    "y_pred=[classify(i,0.5) for i in y_prob]"
   ]
  },
  {
   "cell_type": "code",
   "execution_count": 60,
   "metadata": {},
   "outputs": [
    {
     "name": "stdout",
     "output_type": "stream",
     "text": [
      "confusion matrix: \n",
      " [[127521  16875]\n",
      " [ 29668  15735]]\n",
      "\n",
      "accuracy:  0.7547774224310981\n",
      "\n",
      "classification report: \n",
      "               precision    recall  f1-score   support\n",
      "\n",
      "         1.0       0.81      0.88      0.85    144396\n",
      "         2.0       0.48      0.35      0.40     45403\n",
      "\n",
      "    accuracy                           0.75    189799\n",
      "   macro avg       0.65      0.61      0.62    189799\n",
      "weighted avg       0.73      0.75      0.74    189799\n",
      "\n",
      "\n",
      "Area under ROC curve for validation set: 0.7153459653860513\n"
     ]
    },
    {
     "data": {
      "image/png": "[encoded data removed]",
      "text/plain": [
       "<Figure size 432x432 with 1 Axes>"
      ]
     },
     "metadata": {
      "needs_background": "light"
     },
     "output_type": "display_data"
    }
   ],
   "source": [
    "auccocluster, acccocluster,precocluster=model_evaluation(y_test,y_pred,y_prob)"
   ]
  },
  {
   "cell_type": "markdown",
   "metadata": {},
   "source": [
    "Now we will compare all the models we have."
   ]
  },
  {
   "cell_type": "code",
   "execution_count": 61,
   "metadata": {},
   "outputs": [
    {
     "data": {
      "text/html": [
       "<div>\n",
       "<style scoped>\n",
       "    .dataframe tbody tr th:only-of-type {\n",
       "        vertical-align: middle;\n",
       "    }\n",
       "\n",
       "    .dataframe tbody tr th {\n",
       "        vertical-align: top;\n",
       "    }\n",
       "\n",
       "    .dataframe thead th {\n",
       "        text-align: right;\n",
       "    }\n",
       "</style>\n",
       "<table border=\"1\" class=\"dataframe\">\n",
       "  <thead>\n",
       "    <tr style=\"text-align: right;\">\n",
       "      <th></th>\n",
       "      <th>Algorithm</th>\n",
       "      <th>AUC</th>\n",
       "      <th>Accucracy</th>\n",
       "      <th>Precision</th>\n",
       "    </tr>\n",
       "  </thead>\n",
       "  <tbody>\n",
       "    <tr>\n",
       "      <th>0</th>\n",
       "      <td>Dummy Classification</td>\n",
       "      <td>0.500000</td>\n",
       "      <td>0.633049</td>\n",
       "      <td>0.241865</td>\n",
       "    </tr>\n",
       "    <tr>\n",
       "      <th>1</th>\n",
       "      <td>Mean</td>\n",
       "      <td>0.566970</td>\n",
       "      <td>0.725399</td>\n",
       "      <td>0.317985</td>\n",
       "    </tr>\n",
       "    <tr>\n",
       "      <th>2</th>\n",
       "      <td>Weighted Mean</td>\n",
       "      <td>0.557311</td>\n",
       "      <td>0.722380</td>\n",
       "      <td>0.332955</td>\n",
       "    </tr>\n",
       "    <tr>\n",
       "      <th>3</th>\n",
       "      <td>k-NN</td>\n",
       "      <td>0.581095</td>\n",
       "      <td>0.734372</td>\n",
       "      <td>0.341611</td>\n",
       "    </tr>\n",
       "    <tr>\n",
       "      <th>4</th>\n",
       "      <td>k-NN Baseline</td>\n",
       "      <td>0.726185</td>\n",
       "      <td>0.761627</td>\n",
       "      <td>0.503177</td>\n",
       "    </tr>\n",
       "    <tr>\n",
       "      <th>5</th>\n",
       "      <td>SVD</td>\n",
       "      <td>0.760011</td>\n",
       "      <td>0.784446</td>\n",
       "      <td>0.606045</td>\n",
       "    </tr>\n",
       "    <tr>\n",
       "      <th>6</th>\n",
       "      <td>NMF</td>\n",
       "      <td>0.695126</td>\n",
       "      <td>0.772465</td>\n",
       "      <td>0.568812</td>\n",
       "    </tr>\n",
       "    <tr>\n",
       "      <th>7</th>\n",
       "      <td>Co-Clustering</td>\n",
       "      <td>0.715346</td>\n",
       "      <td>0.754777</td>\n",
       "      <td>0.482521</td>\n",
       "    </tr>\n",
       "  </tbody>\n",
       "</table>\n",
       "</div>"
      ],
      "text/plain": [
       "              Algorithm       AUC  Accucracy  Precision\n",
       "0  Dummy Classification  0.500000   0.633049   0.241865\n",
       "1                  Mean  0.566970   0.725399   0.317985\n",
       "2         Weighted Mean  0.557311   0.722380   0.332955\n",
       "3                  k-NN  0.581095   0.734372   0.341611\n",
       "4         k-NN Baseline  0.726185   0.761627   0.503177\n",
       "5                   SVD  0.760011   0.784446   0.606045\n",
       "6                   NMF  0.695126   0.772465   0.568812\n",
       "7         Co-Clustering  0.715346   0.754777   0.482521"
      ]
     },
     "execution_count": 61,
     "metadata": {},
     "output_type": "execute_result"
    }
   ],
   "source": [
    "modelLabels = [ 'Dummy Classification', 'Mean','Weighted Mean','k-NN', 'k-NN Baseline','SVD','NMF','Co-Clustering']\n",
    "score_auc= [aucdummy,aucmean,aucwmean,aucknn,aucknnbaseline,aucsvd,aucnmf,auccocluster]\n",
    "score_acc= [accdummmy,accmean,accwmean,accknn,accknnbaseline,accsvd,accnmf,acccocluster]\n",
    "score_pre= [predummy,premean,prewmean,preknn,preknnbaseline,presvd,prenmf,precocluster]\n",
    "score_tab = pd.DataFrame(list(zip(modelLabels, score_auc, score_acc,score_pre)), \n",
    "               columns =['Algorithm', 'AUC','Accucracy', 'Precision' ]) \n",
    "\n",
    "score_tab"
   ]
  },
  {
   "cell_type": "code",
   "execution_count": 62,
   "metadata": {},
   "outputs": [
    {
     "data": {
      "image/png": "[encoded data removed]",
      "text/plain": [
       "<Figure size 1152x576 with 1 Axes>"
      ]
     },
     "metadata": {
      "needs_background": "light"
     },
     "output_type": "display_data"
    }
   ],
   "source": [
    "index1=[1,2,3,4,5,6,7,8]\n",
    "index2=[1.2,2.2,3.2,4.2,5.2,6.2,7.2,8.2]\n",
    "index3=[1.4,2.4,3.4,4.4,5.4,6.4,7.4,8.4]\n",
    "plt.figure(figsize=(16,8))\n",
    "plt.xlabel('Models',fontsize=16)\n",
    "plt.ylabel ('Scores',fontsize=16)\n",
    "plt.title('Comparison of the models',fontsize=16)\n",
    "_=plt.bar(index1,score_auc,color='b',label='AUC',edgecolor='k',width=0.2)\n",
    "_=plt.bar(index2,score_acc,color='r',label='Accucracy',edgecolor='k',width=0.2)\n",
    "_=plt.bar(index3,score_pre,color='g',label='Precision',edgecolor='k',width=0.2)\n",
    "plt.xticks([1,2,3,4,5,6,7,8], modelLabels)\n",
    "plt.legend()\n",
    "plt.savefig(\"ModelCompare.png\")\n",
    "plt.show()"
   ]
  },
  {
   "cell_type": "markdown",
   "metadata": {},
   "source": [
    "So SVD excels at all metrics: AUC, accucracy and precision. We will use SVD for further tuning."
   ]
  },
  {
   "cell_type": "markdown",
   "metadata": {},
   "source": [
    "### Optimize SVD"
   ]
  },
  {
   "cell_type": "code",
   "execution_count": 63,
   "metadata": {},
   "outputs": [],
   "source": [
    "from surprise.model_selection import KFold"
   ]
  },
  {
   "cell_type": "code",
   "execution_count": 64,
   "metadata": {},
   "outputs": [],
   "source": [
    "def evaluation(actual_values, predicted_values, predicted_probabilities):\n",
    "    fpr,tpr,threshold=roc_curve(actual_values, predicted_probabilities,pos_label=2)\n",
    "    return auc(fpr,tpr),accuracy_score(actual_values,predicted_values),precision_score(actual_values,predicted_values, pos_label=2)"
   ]
  },
  {
   "cell_type": "code",
   "execution_count": 65,
   "metadata": {},
   "outputs": [
    {
     "name": "stdout",
     "output_type": "stream",
     "text": [
      "For parameters: n_epochs= 10; lr_all= 0.002;reg_all= 0.02\n",
      "Average AUC: 0.739086653630496; Average Accuracy: 0.7761312930621612; Average Precision:0.6451329563310862\n",
      "For parameters: n_epochs= 10; lr_all= 0.002;reg_all= 0.04\n",
      "Average AUC: 0.7432331523223326; Average Accuracy: 0.7765390943965252; Average Precision:0.6548979857286619\n",
      "For parameters: n_epochs= 10; lr_all= 0.005;reg_all= 0.02\n",
      "Average AUC: 0.755161096657785; Average Accuracy: 0.7811545203513415; Average Precision:0.626198084375085\n",
      "For parameters: n_epochs= 10; lr_all= 0.005;reg_all= 0.04\n",
      "Average AUC: 0.7598725751935088; Average Accuracy: 0.7824221818635889; Average Precision:0.6392840520914191\n",
      "For parameters: n_epochs= 20; lr_all= 0.002;reg_all= 0.02\n",
      "Average AUC: 0.7531142866727908; Average Accuracy: 0.7802377576616862; Average Precision:0.6332745349476107\n",
      "For parameters: n_epochs= 20; lr_all= 0.002;reg_all= 0.04\n",
      "Average AUC: 0.757668031723245; Average Accuracy: 0.7811734878552653; Average Precision:0.6440949108144487\n",
      "For parameters: n_epochs= 20; lr_all= 0.005;reg_all= 0.02\n",
      "Average AUC: 0.7588295556376777; Average Accuracy: 0.7825423093884402; Average Precision:0.6113706228608575\n",
      "For parameters: n_epochs= 20; lr_all= 0.005;reg_all= 0.04\n",
      "Average AUC: 0.7645012629086789; Average Accuracy: 0.7847377979676319; Average Precision:0.6267036727594016\n"
     ]
    }
   ],
   "source": [
    "n_epochs= [10, 20]\n",
    "lr_all= [0.002, 0.005]\n",
    "reg_all=[0.02, 0.04]\n",
    "kf = KFold(n_splits=3)\n",
    "for i in n_epochs:\n",
    "    for j in lr_all:\n",
    "        for k in reg_all:\n",
    "            algo = SVD(n_epochs=i,lr_all=j,reg_all=k)\n",
    "            aveauc=[]\n",
    "            aveacc=[]\n",
    "            avepre=[]\n",
    "            for trainset, testset in kf.split(data):\n",
    "                algo.fit(trainset)\n",
    "                predictions = algo.test(testset)\n",
    "                y_test=[predictions[i].r_ui for i in range(len(predictions))]\n",
    "                y_prob=[propa(predictions[i].est) for i in range(len(predictions))]\n",
    "                y_pred=[classify(i,0.5) for i in y_prob]\n",
    "                # Compute and print Root Mean Squared Error\n",
    "                aucc,accc,prec=evaluation(y_test,y_pred,y_prob)\n",
    "                aveauc.append(aucc)\n",
    "                aveacc.append(accc)\n",
    "                avepre.append(prec)\n",
    "            print(\"For parameters: n_epochs= \"+str(i)+\"; lr_all= \"+str(j)+\";reg_all= \"+str(k))\n",
    "            print(\"Average AUC: \"+str((sum(aveauc)/len(aveauc)))+\"; Average Accuracy: \"+str((sum(aveacc)/len(aveacc)))+\"; Average Precision:\"+str((sum(avepre)/len(avepre))))"
   ]
  },
  {
   "cell_type": "markdown",
   "metadata": {},
   "source": [
    "We will now use precision to determine the best model. This is because a user will not like it if a recommended book turns out bad, and precision captures this perfectly. With this we see that the best estimator is SVD with n_epochs = 10, lr_all= 0.002 and reg_all=0.04"
   ]
  },
  {
   "cell_type": "code",
   "execution_count": 67,
   "metadata": {},
   "outputs": [
    {
     "name": "stdout",
     "output_type": "stream",
     "text": [
      "RMSE: 0.3943\n"
     ]
    }
   ],
   "source": [
    "from surprise import SVD\n",
    "svdmodel = SVD(n_epochs=10,lr_all=0.002,reg_all=0.04)\n",
    "svdmodel.fit(model_train)\n",
    "predictions = svdmodel.test(model_test)\n",
    "svdscore=accuracy.rmse(predictions)"
   ]
  },
  {
   "cell_type": "code",
   "execution_count": 68,
   "metadata": {},
   "outputs": [],
   "source": [
    "y_test=[predictions[i].r_ui for i in range(len(predictions))]\n",
    "y_prob=[propa(predictions[i].est) for i in range(len(predictions))]\n",
    "y_pred=[classify(i,0.5) for i in y_prob]"
   ]
  },
  {
   "cell_type": "code",
   "execution_count": 69,
   "metadata": {},
   "outputs": [
    {
     "name": "stdout",
     "output_type": "stream",
     "text": [
      "confusion matrix: \n",
      " [[140326   4070]\n",
      " [ 37882   7521]]\n",
      "\n",
      "accuracy:  0.7789661694740225\n",
      "\n",
      "classification report: \n",
      "               precision    recall  f1-score   support\n",
      "\n",
      "         1.0       0.79      0.97      0.87    144396\n",
      "         2.0       0.65      0.17      0.26     45403\n",
      "\n",
      "    accuracy                           0.78    189799\n",
      "   macro avg       0.72      0.57      0.57    189799\n",
      "weighted avg       0.75      0.78      0.72    189799\n",
      "\n",
      "\n",
      "Area under ROC curve for validation set: 0.7434420610880713\n"
     ]
    },
    {
     "data": {
      "image/png": "[encoded data removed]",
      "text/plain": [
       "<Figure size 432x432 with 1 Axes>"
      ]
     },
     "metadata": {
      "needs_background": "light"
     },
     "output_type": "display_data"
    }
   ],
   "source": [
    "aucsvd, accsvd,presvd=model_evaluation(y_test,y_pred,y_prob)"
   ]
  },
  {
   "cell_type": "code",
   "execution_count": 70,
   "metadata": {},
   "outputs": [],
   "source": [
    "userlistresult=[predictions[i].uid for i in range(len(predictions))]\n",
    "booklistresult=[predictions[i].iid for i in range(len(predictions))]\n"
   ]
  },
  {
   "cell_type": "code",
   "execution_count": 71,
   "metadata": {},
   "outputs": [],
   "source": [
    "booklisttitle=userbookrating[userbookrating['Book-ID'].isin(booklistresult)][['Book-ID','Book-Title']].drop_duplicates()"
   ]
  },
  {
   "cell_type": "code",
   "execution_count": 72,
   "metadata": {},
   "outputs": [],
   "source": [
    "countbook=pd.DataFrame({'User-ID':userlistresult, 'Book-ID':booklistresult})"
   ]
  },
  {
   "cell_type": "code",
   "execution_count": 73,
   "metadata": {},
   "outputs": [],
   "source": [
    "countbook=countbook.merge(booklisttitle,on='Book-ID', how='left')"
   ]
  },
  {
   "cell_type": "code",
   "execution_count": 74,
   "metadata": {},
   "outputs": [],
   "source": [
    "countbook['Predict Recommended Book']=y_pred"
   ]
  },
  {
   "cell_type": "code",
   "execution_count": 75,
   "metadata": {},
   "outputs": [],
   "source": [
    "countbook['Actual Recommended Book']=y_test"
   ]
  },
  {
   "cell_type": "code",
   "execution_count": 76,
   "metadata": {},
   "outputs": [],
   "source": [
    "countbook.to_csv('final_result_recommendation.csv', index=False, header=True)"
   ]
  },
  {
   "cell_type": "code",
   "execution_count": 77,
   "metadata": {},
   "outputs": [],
   "source": [
    "from surprise import __version__ as surprise_version"
   ]
  },
  {
   "cell_type": "code",
   "execution_count": 78,
   "metadata": {},
   "outputs": [],
   "source": [
    "best_model = SVD(n_epochs=10,lr_all=0.002,reg_all=0.04)\n",
    "best_model.version = '1.0'\n",
    "best_model.pandas_version = pd.__version__\n",
    "best_model.numpy_version = np.__version__\n",
    "best_model.surprise_version = surprise_version\n",
    "best_model.X_columns = [col for col in X_train.columns]\n",
    "best_model.build_datetime = datetime.datetime.now()"
   ]
  },
  {
   "cell_type": "code",
   "execution_count": 80,
   "metadata": {},
   "outputs": [
    {
     "name": "stdout",
     "output_type": "stream",
     "text": [
      "Directory models was created.\n",
      "Writing file.  \"models\\Book_Recommendation_System.pkl\"\n"
     ]
    }
   ],
   "source": [
    "from library.sb_utils import save_file\n",
    "modelpath = 'models'\n",
    "save_file(best_model, 'Book_Recommendation_System.pkl', modelpath)"
   ]
  },
  {
   "cell_type": "markdown",
   "metadata": {},
   "source": [
    "# Summary: "
   ]
  },
  {
   "cell_type": "markdown",
   "metadata": {},
   "source": [
    "We have created a recommendation system to predict whether a reader will like a book in this project. Because of the polarization of the ratings, we label the books that readers dislike as one and the books they like as two. We then set up a collaborative filtering system based on users' ratings. We also use the surprise scikit and its models. The following algorithms were considered: 'Dummy Classification,' 'Mean,' 'Weighted Mean,' 'k-NN,' 'k-NN Baseline,' 'SVD,' 'NMF,' 'Co-Clustering.' We then test these models with three metrics: ROC-AUC, accuracy, and precision. Based on all three metrics, the best model is 'SVD.' This is a famous model popularized by Simon Funk during the Netflix Contest. We then proceed to optimize the SVD model. The optimized model gives a ROC_AUC of 0.74, an accuracy of 0.78, and a precision of 0.64."
   ]
  },
  {
   "cell_type": "markdown",
   "metadata": {},
   "source": [
    "# Future Directions:"
   ]
  },
  {
   "cell_type": "markdown",
   "metadata": {},
   "source": [
    "Obtains more features to use content-based recommendation.\n",
    "\n",
    "Combining content-based and collaborative-filtering to create hybrid system.\n",
    "\n",
    "Develop a collaborative-filtering system based on items."
   ]
  },
  {
   "cell_type": "code",
   "execution_count": null,
   "metadata": {},
   "outputs": [],
   "source": []
  }
 ],
 "metadata": {
  "kernelspec": {
   "display_name": "Python 3",
   "language": "python",
   "name": "python3"
  },
  "language_info": {
   "codemirror_mode": {
    "name": "ipython",
    "version": 3
   },
   "file_extension": ".py",
   "mimetype": "text/x-python",
   "name": "python",
   "nbconvert_exporter": "python",
   "pygments_lexer": "ipython3",
   "version": "3.8.5"
  }
 },
 "nbformat": 4,
 "nbformat_minor": 4
}
