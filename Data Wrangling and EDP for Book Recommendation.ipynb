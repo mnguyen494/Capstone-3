{
 "cells": [
  {
   "cell_type": "code",
   "execution_count": 6,
   "metadata": {},
   "outputs": [],
   "source": [
    "import pandas as pd\n",
    "import numpy as np\n",
    "import datetime\n",
    "import matplotlib.pyplot as plt\n",
    "import os\n",
    "import matplotlib.pyplot as plt\n",
    "import seaborn as sns\n",
    "from library.sb_utils import save_file\n",
    "import warnings\n",
    "warnings.filterwarnings('ignore')"
   ]
  },
  {
   "cell_type": "markdown",
   "metadata": {},
   "source": [
    "This is the data wrangling and EDP for the project of book recommendation. First, we will load the data. There are three datasets for this project. The first one contains information for the books. The second one contains information about the rating. The third one contains information about the users. We will combine these three datasets into one after the inspection."
   ]
  },
  {
   "cell_type": "code",
   "execution_count": 7,
   "metadata": {},
   "outputs": [],
   "source": [
    "# Load the data. \n",
    "bookdataset=pd.read_csv('data/BX_Books.csv', sep=';',encoding='CP1252')\n",
    "ratingdataset=pd.read_csv('data/BX-Book-Ratings.csv', sep=';',encoding='CP1252')\n",
    "userdataset=pd.read_csv('data/BX-Users.csv', sep=';',encoding='CP1252')"
   ]
  },
  {
   "cell_type": "markdown",
   "metadata": {},
   "source": [
    "# The bookdataset"
   ]
  },
  {
   "cell_type": "markdown",
   "metadata": {},
   "source": [
    "Let's take a look at the bookdataset."
   ]
  },
  {
   "cell_type": "code",
   "execution_count": 8,
   "metadata": {},
   "outputs": [
    {
     "data": {
      "text/html": [
       "<div>\n",
       "<style scoped>\n",
       "    .dataframe tbody tr th:only-of-type {\n",
       "        vertical-align: middle;\n",
       "    }\n",
       "\n",
       "    .dataframe tbody tr th {\n",
       "        vertical-align: top;\n",
       "    }\n",
       "\n",
       "    .dataframe thead th {\n",
       "        text-align: right;\n",
       "    }\n",
       "</style>\n",
       "<table border=\"1\" class=\"dataframe\">\n",
       "  <thead>\n",
       "    <tr style=\"text-align: right;\">\n",
       "      <th></th>\n",
       "      <th>ISBN</th>\n",
       "      <th>Book-Title</th>\n",
       "      <th>Book-Author</th>\n",
       "      <th>Year-Of-Publication</th>\n",
       "      <th>Publisher</th>\n",
       "      <th>Image-URL-S</th>\n",
       "      <th>Image-URL-M</th>\n",
       "      <th>Image-URL-L</th>\n",
       "    </tr>\n",
       "  </thead>\n",
       "  <tbody>\n",
       "    <tr>\n",
       "      <th>0</th>\n",
       "      <td>0195153448</td>\n",
       "      <td>Classical Mythology</td>\n",
       "      <td>Mark P. O. Morford</td>\n",
       "      <td>2002</td>\n",
       "      <td>Oxford University Press</td>\n",
       "      <td>http://images.amazon.com/images/P/0195153448.0...</td>\n",
       "      <td>http://images.amazon.com/images/P/0195153448.0...</td>\n",
       "      <td>http://images.amazon.com/images/P/0195153448.0...</td>\n",
       "    </tr>\n",
       "    <tr>\n",
       "      <th>1</th>\n",
       "      <td>0002005018</td>\n",
       "      <td>Clara Callan</td>\n",
       "      <td>Richard Bruce Wright</td>\n",
       "      <td>2001</td>\n",
       "      <td>HarperFlamingo Canada</td>\n",
       "      <td>http://images.amazon.com/images/P/0002005018.0...</td>\n",
       "      <td>http://images.amazon.com/images/P/0002005018.0...</td>\n",
       "      <td>http://images.amazon.com/images/P/0002005018.0...</td>\n",
       "    </tr>\n",
       "    <tr>\n",
       "      <th>2</th>\n",
       "      <td>0060973129</td>\n",
       "      <td>Decision in Normandy</td>\n",
       "      <td>Carlo D'Este</td>\n",
       "      <td>1991</td>\n",
       "      <td>HarperPerennial</td>\n",
       "      <td>http://images.amazon.com/images/P/0060973129.0...</td>\n",
       "      <td>http://images.amazon.com/images/P/0060973129.0...</td>\n",
       "      <td>http://images.amazon.com/images/P/0060973129.0...</td>\n",
       "    </tr>\n",
       "    <tr>\n",
       "      <th>3</th>\n",
       "      <td>0374157065</td>\n",
       "      <td>Flu: The Story of the Great Influenza Pandemic...</td>\n",
       "      <td>Gina Bari Kolata</td>\n",
       "      <td>1999</td>\n",
       "      <td>Farrar Straus Giroux</td>\n",
       "      <td>http://images.amazon.com/images/P/0374157065.0...</td>\n",
       "      <td>http://images.amazon.com/images/P/0374157065.0...</td>\n",
       "      <td>http://images.amazon.com/images/P/0374157065.0...</td>\n",
       "    </tr>\n",
       "    <tr>\n",
       "      <th>4</th>\n",
       "      <td>0393045218</td>\n",
       "      <td>The Mummies of Urumchi</td>\n",
       "      <td>E. J. W. Barber</td>\n",
       "      <td>1999</td>\n",
       "      <td>W. W. Norton &amp; Company</td>\n",
       "      <td>http://images.amazon.com/images/P/0393045218.0...</td>\n",
       "      <td>http://images.amazon.com/images/P/0393045218.0...</td>\n",
       "      <td>http://images.amazon.com/images/P/0393045218.0...</td>\n",
       "    </tr>\n",
       "  </tbody>\n",
       "</table>\n",
       "</div>"
      ],
      "text/plain": [
       "         ISBN                                         Book-Title  \\\n",
       "0  0195153448                                Classical Mythology   \n",
       "1  0002005018                                       Clara Callan   \n",
       "2  0060973129                               Decision in Normandy   \n",
       "3  0374157065  Flu: The Story of the Great Influenza Pandemic...   \n",
       "4  0393045218                             The Mummies of Urumchi   \n",
       "\n",
       "            Book-Author  Year-Of-Publication                Publisher  \\\n",
       "0    Mark P. O. Morford                 2002  Oxford University Press   \n",
       "1  Richard Bruce Wright                 2001    HarperFlamingo Canada   \n",
       "2          Carlo D'Este                 1991          HarperPerennial   \n",
       "3      Gina Bari Kolata                 1999     Farrar Straus Giroux   \n",
       "4       E. J. W. Barber                 1999   W. W. Norton & Company   \n",
       "\n",
       "                                         Image-URL-S  \\\n",
       "0  http://images.amazon.com/images/P/0195153448.0...   \n",
       "1  http://images.amazon.com/images/P/0002005018.0...   \n",
       "2  http://images.amazon.com/images/P/0060973129.0...   \n",
       "3  http://images.amazon.com/images/P/0374157065.0...   \n",
       "4  http://images.amazon.com/images/P/0393045218.0...   \n",
       "\n",
       "                                         Image-URL-M  \\\n",
       "0  http://images.amazon.com/images/P/0195153448.0...   \n",
       "1  http://images.amazon.com/images/P/0002005018.0...   \n",
       "2  http://images.amazon.com/images/P/0060973129.0...   \n",
       "3  http://images.amazon.com/images/P/0374157065.0...   \n",
       "4  http://images.amazon.com/images/P/0393045218.0...   \n",
       "\n",
       "                                         Image-URL-L  \n",
       "0  http://images.amazon.com/images/P/0195153448.0...  \n",
       "1  http://images.amazon.com/images/P/0002005018.0...  \n",
       "2  http://images.amazon.com/images/P/0060973129.0...  \n",
       "3  http://images.amazon.com/images/P/0374157065.0...  \n",
       "4  http://images.amazon.com/images/P/0393045218.0...  "
      ]
     },
     "execution_count": 8,
     "metadata": {},
     "output_type": "execute_result"
    }
   ],
   "source": [
    "# First, let's look at the dataset for the book: bookdataset.\n",
    "bookdataset.head()"
   ]
  },
  {
   "cell_type": "code",
   "execution_count": 9,
   "metadata": {},
   "outputs": [
    {
     "name": "stdout",
     "output_type": "stream",
     "text": [
      "<class 'pandas.core.frame.DataFrame'>\n",
      "RangeIndex: 271379 entries, 0 to 271378\n",
      "Data columns (total 8 columns):\n",
      " #   Column               Non-Null Count   Dtype \n",
      "---  ------               --------------   ----- \n",
      " 0   ISBN                 271379 non-null  object\n",
      " 1   Book-Title           271379 non-null  object\n",
      " 2   Book-Author          271378 non-null  object\n",
      " 3   Year-Of-Publication  271379 non-null  int64 \n",
      " 4   Publisher            271377 non-null  object\n",
      " 5   Image-URL-S          271379 non-null  object\n",
      " 6   Image-URL-M          271379 non-null  object\n",
      " 7   Image-URL-L          271379 non-null  object\n",
      "dtypes: int64(1), object(7)\n",
      "memory usage: 16.6+ MB\n"
     ]
    }
   ],
   "source": [
    "bookdataset.info()"
   ]
  },
  {
   "cell_type": "markdown",
   "metadata": {},
   "source": [
    "It seems there is very small null cell. This is a good thing. A few columns that are important to us are: ISBN, Book-Title, Book-Author."
   ]
  },
  {
   "cell_type": "code",
   "execution_count": 10,
   "metadata": {},
   "outputs": [
    {
     "data": {
      "text/html": [
       "<div>\n",
       "<style scoped>\n",
       "    .dataframe tbody tr th:only-of-type {\n",
       "        vertical-align: middle;\n",
       "    }\n",
       "\n",
       "    .dataframe tbody tr th {\n",
       "        vertical-align: top;\n",
       "    }\n",
       "\n",
       "    .dataframe thead th {\n",
       "        text-align: right;\n",
       "    }\n",
       "</style>\n",
       "<table border=\"1\" class=\"dataframe\">\n",
       "  <thead>\n",
       "    <tr style=\"text-align: right;\">\n",
       "      <th></th>\n",
       "      <th>ISBN</th>\n",
       "      <th>Book-Title</th>\n",
       "      <th>Book-Author</th>\n",
       "      <th>Year-Of-Publication</th>\n",
       "      <th>Publisher</th>\n",
       "      <th>Image-URL-S</th>\n",
       "      <th>Image-URL-M</th>\n",
       "      <th>Image-URL-L</th>\n",
       "    </tr>\n",
       "  </thead>\n",
       "  <tbody>\n",
       "    <tr>\n",
       "      <th>187700</th>\n",
       "      <td>9627982032</td>\n",
       "      <td>The Credit Suisse Guide to Managing Your Perso...</td>\n",
       "      <td>NaN</td>\n",
       "      <td>1995</td>\n",
       "      <td>Edinburgh Financial Publishing</td>\n",
       "      <td>http://images.amazon.com/images/P/9627982032.0...</td>\n",
       "      <td>http://images.amazon.com/images/P/9627982032.0...</td>\n",
       "      <td>http://images.amazon.com/images/P/9627982032.0...</td>\n",
       "    </tr>\n",
       "  </tbody>\n",
       "</table>\n",
       "</div>"
      ],
      "text/plain": [
       "              ISBN                                         Book-Title  \\\n",
       "187700  9627982032  The Credit Suisse Guide to Managing Your Perso...   \n",
       "\n",
       "       Book-Author  Year-Of-Publication                       Publisher  \\\n",
       "187700         NaN                 1995  Edinburgh Financial Publishing   \n",
       "\n",
       "                                              Image-URL-S  \\\n",
       "187700  http://images.amazon.com/images/P/9627982032.0...   \n",
       "\n",
       "                                              Image-URL-M  \\\n",
       "187700  http://images.amazon.com/images/P/9627982032.0...   \n",
       "\n",
       "                                              Image-URL-L  \n",
       "187700  http://images.amazon.com/images/P/9627982032.0...  "
      ]
     },
     "execution_count": 10,
     "metadata": {},
     "output_type": "execute_result"
    }
   ],
   "source": [
    "bookdataset[bookdataset['Book-Author'].isnull()]"
   ]
  },
  {
   "cell_type": "markdown",
   "metadata": {},
   "source": [
    "A quick search on the internet says that the author of this book is Larissa Anne Downes. Let's fill this info in."
   ]
  },
  {
   "cell_type": "code",
   "execution_count": 11,
   "metadata": {},
   "outputs": [],
   "source": [
    "bookdataset['Book-Author'][bookdataset['Book-Author'].isnull()]='Larissa Anne Downes'"
   ]
  },
  {
   "cell_type": "markdown",
   "metadata": {},
   "source": [
    "We will drop the publisher column because it won't contribute much to our recommendation. There's no need to fill the empty cell."
   ]
  },
  {
   "cell_type": "code",
   "execution_count": 12,
   "metadata": {},
   "outputs": [
    {
     "data": {
      "text/html": [
       "<div>\n",
       "<style scoped>\n",
       "    .dataframe tbody tr th:only-of-type {\n",
       "        vertical-align: middle;\n",
       "    }\n",
       "\n",
       "    .dataframe tbody tr th {\n",
       "        vertical-align: top;\n",
       "    }\n",
       "\n",
       "    .dataframe thead th {\n",
       "        text-align: right;\n",
       "    }\n",
       "</style>\n",
       "<table border=\"1\" class=\"dataframe\">\n",
       "  <thead>\n",
       "    <tr style=\"text-align: right;\">\n",
       "      <th></th>\n",
       "      <th>ISBN</th>\n",
       "      <th>Book-Title</th>\n",
       "      <th>Book-Author</th>\n",
       "      <th>Year-Of-Publication</th>\n",
       "      <th>Publisher</th>\n",
       "      <th>Image-URL-S</th>\n",
       "      <th>Image-URL-M</th>\n",
       "      <th>Image-URL-L</th>\n",
       "    </tr>\n",
       "  </thead>\n",
       "  <tbody>\n",
       "    <tr>\n",
       "      <th>count</th>\n",
       "      <td>271379</td>\n",
       "      <td>271379</td>\n",
       "      <td>271379</td>\n",
       "      <td>271379.000000</td>\n",
       "      <td>271377</td>\n",
       "      <td>271379</td>\n",
       "      <td>271379</td>\n",
       "      <td>271379</td>\n",
       "    </tr>\n",
       "    <tr>\n",
       "      <th>unique</th>\n",
       "      <td>271379</td>\n",
       "      <td>242154</td>\n",
       "      <td>102029</td>\n",
       "      <td>NaN</td>\n",
       "      <td>16806</td>\n",
       "      <td>271063</td>\n",
       "      <td>271063</td>\n",
       "      <td>271063</td>\n",
       "    </tr>\n",
       "    <tr>\n",
       "      <th>top</th>\n",
       "      <td>0446605972</td>\n",
       "      <td>Selected Poems</td>\n",
       "      <td>Agatha Christie</td>\n",
       "      <td>NaN</td>\n",
       "      <td>Harlequin</td>\n",
       "      <td>http://images.amazon.com/images/P/006017143X.0...</td>\n",
       "      <td>http://images.amazon.com/images/P/044040665X.0...</td>\n",
       "      <td>http://images.amazon.com/images/P/038079439X.0...</td>\n",
       "    </tr>\n",
       "    <tr>\n",
       "      <th>freq</th>\n",
       "      <td>1</td>\n",
       "      <td>27</td>\n",
       "      <td>632</td>\n",
       "      <td>NaN</td>\n",
       "      <td>7536</td>\n",
       "      <td>2</td>\n",
       "      <td>2</td>\n",
       "      <td>2</td>\n",
       "    </tr>\n",
       "    <tr>\n",
       "      <th>mean</th>\n",
       "      <td>NaN</td>\n",
       "      <td>NaN</td>\n",
       "      <td>NaN</td>\n",
       "      <td>1959.756050</td>\n",
       "      <td>NaN</td>\n",
       "      <td>NaN</td>\n",
       "      <td>NaN</td>\n",
       "      <td>NaN</td>\n",
       "    </tr>\n",
       "    <tr>\n",
       "      <th>std</th>\n",
       "      <td>NaN</td>\n",
       "      <td>NaN</td>\n",
       "      <td>NaN</td>\n",
       "      <td>258.011363</td>\n",
       "      <td>NaN</td>\n",
       "      <td>NaN</td>\n",
       "      <td>NaN</td>\n",
       "      <td>NaN</td>\n",
       "    </tr>\n",
       "    <tr>\n",
       "      <th>min</th>\n",
       "      <td>NaN</td>\n",
       "      <td>NaN</td>\n",
       "      <td>NaN</td>\n",
       "      <td>0.000000</td>\n",
       "      <td>NaN</td>\n",
       "      <td>NaN</td>\n",
       "      <td>NaN</td>\n",
       "      <td>NaN</td>\n",
       "    </tr>\n",
       "    <tr>\n",
       "      <th>25%</th>\n",
       "      <td>NaN</td>\n",
       "      <td>NaN</td>\n",
       "      <td>NaN</td>\n",
       "      <td>1989.000000</td>\n",
       "      <td>NaN</td>\n",
       "      <td>NaN</td>\n",
       "      <td>NaN</td>\n",
       "      <td>NaN</td>\n",
       "    </tr>\n",
       "    <tr>\n",
       "      <th>50%</th>\n",
       "      <td>NaN</td>\n",
       "      <td>NaN</td>\n",
       "      <td>NaN</td>\n",
       "      <td>1995.000000</td>\n",
       "      <td>NaN</td>\n",
       "      <td>NaN</td>\n",
       "      <td>NaN</td>\n",
       "      <td>NaN</td>\n",
       "    </tr>\n",
       "    <tr>\n",
       "      <th>75%</th>\n",
       "      <td>NaN</td>\n",
       "      <td>NaN</td>\n",
       "      <td>NaN</td>\n",
       "      <td>2000.000000</td>\n",
       "      <td>NaN</td>\n",
       "      <td>NaN</td>\n",
       "      <td>NaN</td>\n",
       "      <td>NaN</td>\n",
       "    </tr>\n",
       "    <tr>\n",
       "      <th>max</th>\n",
       "      <td>NaN</td>\n",
       "      <td>NaN</td>\n",
       "      <td>NaN</td>\n",
       "      <td>2050.000000</td>\n",
       "      <td>NaN</td>\n",
       "      <td>NaN</td>\n",
       "      <td>NaN</td>\n",
       "      <td>NaN</td>\n",
       "    </tr>\n",
       "  </tbody>\n",
       "</table>\n",
       "</div>"
      ],
      "text/plain": [
       "              ISBN      Book-Title      Book-Author  Year-Of-Publication  \\\n",
       "count       271379          271379           271379        271379.000000   \n",
       "unique      271379          242154           102029                  NaN   \n",
       "top     0446605972  Selected Poems  Agatha Christie                  NaN   \n",
       "freq             1              27              632                  NaN   \n",
       "mean           NaN             NaN              NaN          1959.756050   \n",
       "std            NaN             NaN              NaN           258.011363   \n",
       "min            NaN             NaN              NaN             0.000000   \n",
       "25%            NaN             NaN              NaN          1989.000000   \n",
       "50%            NaN             NaN              NaN          1995.000000   \n",
       "75%            NaN             NaN              NaN          2000.000000   \n",
       "max            NaN             NaN              NaN          2050.000000   \n",
       "\n",
       "        Publisher                                        Image-URL-S  \\\n",
       "count      271377                                             271379   \n",
       "unique      16806                                             271063   \n",
       "top     Harlequin  http://images.amazon.com/images/P/006017143X.0...   \n",
       "freq         7536                                                  2   \n",
       "mean          NaN                                                NaN   \n",
       "std           NaN                                                NaN   \n",
       "min           NaN                                                NaN   \n",
       "25%           NaN                                                NaN   \n",
       "50%           NaN                                                NaN   \n",
       "75%           NaN                                                NaN   \n",
       "max           NaN                                                NaN   \n",
       "\n",
       "                                              Image-URL-M  \\\n",
       "count                                              271379   \n",
       "unique                                             271063   \n",
       "top     http://images.amazon.com/images/P/044040665X.0...   \n",
       "freq                                                    2   \n",
       "mean                                                  NaN   \n",
       "std                                                   NaN   \n",
       "min                                                   NaN   \n",
       "25%                                                   NaN   \n",
       "50%                                                   NaN   \n",
       "75%                                                   NaN   \n",
       "max                                                   NaN   \n",
       "\n",
       "                                              Image-URL-L  \n",
       "count                                              271379  \n",
       "unique                                             271063  \n",
       "top     http://images.amazon.com/images/P/038079439X.0...  \n",
       "freq                                                    2  \n",
       "mean                                                  NaN  \n",
       "std                                                   NaN  \n",
       "min                                                   NaN  \n",
       "25%                                                   NaN  \n",
       "50%                                                   NaN  \n",
       "75%                                                   NaN  \n",
       "max                                                   NaN  "
      ]
     },
     "execution_count": 12,
     "metadata": {},
     "output_type": "execute_result"
    }
   ],
   "source": [
    "bookdataset.describe(include = 'all')"
   ]
  },
  {
   "cell_type": "markdown",
   "metadata": {},
   "source": [
    "It's to be expected that the number of ISBN to be unique. However, there are many books have similar title. Let's take a closer look at them."
   ]
  },
  {
   "cell_type": "code",
   "execution_count": 13,
   "metadata": {},
   "outputs": [
    {
     "data": {
      "text/plain": [
       "Selected Poems                                                                                              27\n",
       "Little Women                                                                                                24\n",
       "Wuthering Heights                                                                                           21\n",
       "Dracula                                                                                                     20\n",
       "The Secret Garden                                                                                           20\n",
       "                                                                                                            ..\n",
       "Joke Book                                                                                                    1\n",
       "Everyday Grace: Having Hope, Finding Forgiveness, and Making Miracles                                        1\n",
       "Jane Eyre: With Connections (Hrw Library)                                                                    1\n",
       "Let's Put on a Musical!: How to Choose the Right Show for Your School, Community or Professional Theater     1\n",
       "Cassie (Sunfire No. 14)                                                                                      1\n",
       "Name: Book-Title, Length: 242154, dtype: int64"
      ]
     },
     "execution_count": 13,
     "metadata": {},
     "output_type": "execute_result"
    }
   ],
   "source": [
    "bookdataset['Book-Title'].value_counts()"
   ]
  },
  {
   "cell_type": "code",
   "execution_count": 14,
   "metadata": {},
   "outputs": [
    {
     "data": {
      "text/html": [
       "<div>\n",
       "<style scoped>\n",
       "    .dataframe tbody tr th:only-of-type {\n",
       "        vertical-align: middle;\n",
       "    }\n",
       "\n",
       "    .dataframe tbody tr th {\n",
       "        vertical-align: top;\n",
       "    }\n",
       "\n",
       "    .dataframe thead th {\n",
       "        text-align: right;\n",
       "    }\n",
       "</style>\n",
       "<table border=\"1\" class=\"dataframe\">\n",
       "  <thead>\n",
       "    <tr style=\"text-align: right;\">\n",
       "      <th></th>\n",
       "      <th>ISBN</th>\n",
       "      <th>Book-Title</th>\n",
       "      <th>Book-Author</th>\n",
       "      <th>Year-Of-Publication</th>\n",
       "      <th>Publisher</th>\n",
       "      <th>Image-URL-S</th>\n",
       "      <th>Image-URL-M</th>\n",
       "      <th>Image-URL-L</th>\n",
       "    </tr>\n",
       "  </thead>\n",
       "  <tbody>\n",
       "    <tr>\n",
       "      <th>4523</th>\n",
       "      <td>081120958X</td>\n",
       "      <td>Selected Poems</td>\n",
       "      <td>William Carlos Williams</td>\n",
       "      <td>1985</td>\n",
       "      <td>New Directions Publishing Corporation</td>\n",
       "      <td>http://images.amazon.com/images/P/081120958X.0...</td>\n",
       "      <td>http://images.amazon.com/images/P/081120958X.0...</td>\n",
       "      <td>http://images.amazon.com/images/P/081120958X.0...</td>\n",
       "    </tr>\n",
       "    <tr>\n",
       "      <th>39417</th>\n",
       "      <td>0811201465</td>\n",
       "      <td>Selected Poems</td>\n",
       "      <td>K. Patchen</td>\n",
       "      <td>1957</td>\n",
       "      <td>New Directions Publishing Corporation</td>\n",
       "      <td>http://images.amazon.com/images/P/0811201465.0...</td>\n",
       "      <td>http://images.amazon.com/images/P/0811201465.0...</td>\n",
       "      <td>http://images.amazon.com/images/P/0811201465.0...</td>\n",
       "    </tr>\n",
       "    <tr>\n",
       "      <th>41317</th>\n",
       "      <td>0679750800</td>\n",
       "      <td>Selected Poems</td>\n",
       "      <td>Rita Dove</td>\n",
       "      <td>1993</td>\n",
       "      <td>Vintage Books USA</td>\n",
       "      <td>http://images.amazon.com/images/P/0679750800.0...</td>\n",
       "      <td>http://images.amazon.com/images/P/0679750800.0...</td>\n",
       "      <td>http://images.amazon.com/images/P/0679750800.0...</td>\n",
       "    </tr>\n",
       "    <tr>\n",
       "      <th>106890</th>\n",
       "      <td>0060931744</td>\n",
       "      <td>Selected Poems</td>\n",
       "      <td>Gwendolyn Brooks</td>\n",
       "      <td>1999</td>\n",
       "      <td>Perennial</td>\n",
       "      <td>http://images.amazon.com/images/P/0060931744.0...</td>\n",
       "      <td>http://images.amazon.com/images/P/0060931744.0...</td>\n",
       "      <td>http://images.amazon.com/images/P/0060931744.0...</td>\n",
       "    </tr>\n",
       "    <tr>\n",
       "      <th>118780</th>\n",
       "      <td>0517101548</td>\n",
       "      <td>Selected Poems</td>\n",
       "      <td>John Donne</td>\n",
       "      <td>1994</td>\n",
       "      <td>Gramercy Books</td>\n",
       "      <td>http://images.amazon.com/images/P/0517101548.0...</td>\n",
       "      <td>http://images.amazon.com/images/P/0517101548.0...</td>\n",
       "      <td>http://images.amazon.com/images/P/0517101548.0...</td>\n",
       "    </tr>\n",
       "  </tbody>\n",
       "</table>\n",
       "</div>"
      ],
      "text/plain": [
       "              ISBN      Book-Title              Book-Author  \\\n",
       "4523    081120958X  Selected Poems  William Carlos Williams   \n",
       "39417   0811201465  Selected Poems               K. Patchen   \n",
       "41317   0679750800  Selected Poems                Rita Dove   \n",
       "106890  0060931744  Selected Poems         Gwendolyn Brooks   \n",
       "118780  0517101548  Selected Poems               John Donne   \n",
       "\n",
       "        Year-Of-Publication                              Publisher  \\\n",
       "4523                   1985  New Directions Publishing Corporation   \n",
       "39417                  1957  New Directions Publishing Corporation   \n",
       "41317                  1993                      Vintage Books USA   \n",
       "106890                 1999                              Perennial   \n",
       "118780                 1994                         Gramercy Books   \n",
       "\n",
       "                                              Image-URL-S  \\\n",
       "4523    http://images.amazon.com/images/P/081120958X.0...   \n",
       "39417   http://images.amazon.com/images/P/0811201465.0...   \n",
       "41317   http://images.amazon.com/images/P/0679750800.0...   \n",
       "106890  http://images.amazon.com/images/P/0060931744.0...   \n",
       "118780  http://images.amazon.com/images/P/0517101548.0...   \n",
       "\n",
       "                                              Image-URL-M  \\\n",
       "4523    http://images.amazon.com/images/P/081120958X.0...   \n",
       "39417   http://images.amazon.com/images/P/0811201465.0...   \n",
       "41317   http://images.amazon.com/images/P/0679750800.0...   \n",
       "106890  http://images.amazon.com/images/P/0060931744.0...   \n",
       "118780  http://images.amazon.com/images/P/0517101548.0...   \n",
       "\n",
       "                                              Image-URL-L  \n",
       "4523    http://images.amazon.com/images/P/081120958X.0...  \n",
       "39417   http://images.amazon.com/images/P/0811201465.0...  \n",
       "41317   http://images.amazon.com/images/P/0679750800.0...  \n",
       "106890  http://images.amazon.com/images/P/0060931744.0...  \n",
       "118780  http://images.amazon.com/images/P/0517101548.0...  "
      ]
     },
     "execution_count": 14,
     "metadata": {},
     "output_type": "execute_result"
    }
   ],
   "source": [
    "bookdataset[bookdataset['Book-Title']=='Selected Poems'].head()"
   ]
  },
  {
   "cell_type": "code",
   "execution_count": 15,
   "metadata": {},
   "outputs": [
    {
     "data": {
      "text/html": [
       "<div>\n",
       "<style scoped>\n",
       "    .dataframe tbody tr th:only-of-type {\n",
       "        vertical-align: middle;\n",
       "    }\n",
       "\n",
       "    .dataframe tbody tr th {\n",
       "        vertical-align: top;\n",
       "    }\n",
       "\n",
       "    .dataframe thead th {\n",
       "        text-align: right;\n",
       "    }\n",
       "</style>\n",
       "<table border=\"1\" class=\"dataframe\">\n",
       "  <thead>\n",
       "    <tr style=\"text-align: right;\">\n",
       "      <th></th>\n",
       "      <th>ISBN</th>\n",
       "      <th>Book-Title</th>\n",
       "      <th>Book-Author</th>\n",
       "      <th>Year-Of-Publication</th>\n",
       "      <th>Publisher</th>\n",
       "      <th>Image-URL-S</th>\n",
       "      <th>Image-URL-M</th>\n",
       "      <th>Image-URL-L</th>\n",
       "    </tr>\n",
       "  </thead>\n",
       "  <tbody>\n",
       "    <tr>\n",
       "      <th>3952</th>\n",
       "      <td>185854176X</td>\n",
       "      <td>Little Women</td>\n",
       "      <td>Louisa M. Atcott</td>\n",
       "      <td>1995</td>\n",
       "      <td>Brimax Books Ltd</td>\n",
       "      <td>http://images.amazon.com/images/P/185854176X.0...</td>\n",
       "      <td>http://images.amazon.com/images/P/185854176X.0...</td>\n",
       "      <td>http://images.amazon.com/images/P/185854176X.0...</td>\n",
       "    </tr>\n",
       "    <tr>\n",
       "      <th>4330</th>\n",
       "      <td>0861782356</td>\n",
       "      <td>Little Women</td>\n",
       "      <td>Louisa May Alcott</td>\n",
       "      <td>0</td>\n",
       "      <td>Octopus Publising Group Plc</td>\n",
       "      <td>http://images.amazon.com/images/P/0861782356.0...</td>\n",
       "      <td>http://images.amazon.com/images/P/0861782356.0...</td>\n",
       "      <td>http://images.amazon.com/images/P/0861782356.0...</td>\n",
       "    </tr>\n",
       "    <tr>\n",
       "      <th>12228</th>\n",
       "      <td>0590203509</td>\n",
       "      <td>Little Women</td>\n",
       "      <td>Louisa May Alcott</td>\n",
       "      <td>1994</td>\n",
       "      <td>Scholastic</td>\n",
       "      <td>http://images.amazon.com/images/P/0590203509.0...</td>\n",
       "      <td>http://images.amazon.com/images/P/0590203509.0...</td>\n",
       "      <td>http://images.amazon.com/images/P/0590203509.0...</td>\n",
       "    </tr>\n",
       "    <tr>\n",
       "      <th>20677</th>\n",
       "      <td>0440447682</td>\n",
       "      <td>Little Women</td>\n",
       "      <td>Louisa May Alcott</td>\n",
       "      <td>1990</td>\n",
       "      <td>Yearling Books</td>\n",
       "      <td>http://images.amazon.com/images/P/0440447682.0...</td>\n",
       "      <td>http://images.amazon.com/images/P/0440447682.0...</td>\n",
       "      <td>http://images.amazon.com/images/P/0440447682.0...</td>\n",
       "    </tr>\n",
       "    <tr>\n",
       "      <th>32838</th>\n",
       "      <td>1550134140</td>\n",
       "      <td>Little Women</td>\n",
       "      <td>Louisa May Alcott</td>\n",
       "      <td>0</td>\n",
       "      <td>Firefly Books Ltd</td>\n",
       "      <td>http://images.amazon.com/images/P/1550134140.0...</td>\n",
       "      <td>http://images.amazon.com/images/P/1550134140.0...</td>\n",
       "      <td>http://images.amazon.com/images/P/1550134140.0...</td>\n",
       "    </tr>\n",
       "  </tbody>\n",
       "</table>\n",
       "</div>"
      ],
      "text/plain": [
       "             ISBN    Book-Title        Book-Author  Year-Of-Publication  \\\n",
       "3952   185854176X  Little Women   Louisa M. Atcott                 1995   \n",
       "4330   0861782356  Little Women  Louisa May Alcott                    0   \n",
       "12228  0590203509  Little Women  Louisa May Alcott                 1994   \n",
       "20677  0440447682  Little Women  Louisa May Alcott                 1990   \n",
       "32838  1550134140  Little Women  Louisa May Alcott                    0   \n",
       "\n",
       "                         Publisher  \\\n",
       "3952              Brimax Books Ltd   \n",
       "4330   Octopus Publising Group Plc   \n",
       "12228                   Scholastic   \n",
       "20677               Yearling Books   \n",
       "32838            Firefly Books Ltd   \n",
       "\n",
       "                                             Image-URL-S  \\\n",
       "3952   http://images.amazon.com/images/P/185854176X.0...   \n",
       "4330   http://images.amazon.com/images/P/0861782356.0...   \n",
       "12228  http://images.amazon.com/images/P/0590203509.0...   \n",
       "20677  http://images.amazon.com/images/P/0440447682.0...   \n",
       "32838  http://images.amazon.com/images/P/1550134140.0...   \n",
       "\n",
       "                                             Image-URL-M  \\\n",
       "3952   http://images.amazon.com/images/P/185854176X.0...   \n",
       "4330   http://images.amazon.com/images/P/0861782356.0...   \n",
       "12228  http://images.amazon.com/images/P/0590203509.0...   \n",
       "20677  http://images.amazon.com/images/P/0440447682.0...   \n",
       "32838  http://images.amazon.com/images/P/1550134140.0...   \n",
       "\n",
       "                                             Image-URL-L  \n",
       "3952   http://images.amazon.com/images/P/185854176X.0...  \n",
       "4330   http://images.amazon.com/images/P/0861782356.0...  \n",
       "12228  http://images.amazon.com/images/P/0590203509.0...  \n",
       "20677  http://images.amazon.com/images/P/0440447682.0...  \n",
       "32838  http://images.amazon.com/images/P/1550134140.0...  "
      ]
     },
     "execution_count": 15,
     "metadata": {},
     "output_type": "execute_result"
    }
   ],
   "source": [
    "bookdataset[bookdataset['Book-Title']=='Little Women'].head()"
   ]
  },
  {
   "cell_type": "markdown",
   "metadata": {},
   "source": [
    "Except for the \"Selected Poem\" title, a lot of the books with the same name are just reprints. Let's merge them into a single copy. We will use the title of the book, the author's first name to merge these books."
   ]
  },
  {
   "cell_type": "code",
   "execution_count": 16,
   "metadata": {},
   "outputs": [
    {
     "data": {
      "text/plain": [
       "0           Mark P. O. Morford\n",
       "1         Richard Bruce Wright\n",
       "2                 Carlo D'Este\n",
       "3             Gina Bari Kolata\n",
       "4              E. J. W. Barber\n",
       "                  ...         \n",
       "271374          Paula Danziger\n",
       "271375              Teri Sloat\n",
       "271376        Christine Wicker\n",
       "271377                   Plato\n",
       "271378     Christopher  Biffle\n",
       "Name: Book-Author, Length: 271379, dtype: object"
      ]
     },
     "execution_count": 16,
     "metadata": {},
     "output_type": "execute_result"
    }
   ],
   "source": [
    "bookdataset['Book-Author']"
   ]
  },
  {
   "cell_type": "code",
   "execution_count": 17,
   "metadata": {},
   "outputs": [],
   "source": [
    "BookAuthor = bookdataset['Book-Author'].str.split(' ', expand=True)"
   ]
  },
  {
   "cell_type": "code",
   "execution_count": 18,
   "metadata": {},
   "outputs": [],
   "source": [
    "bookdataset[\"Author-First-Name\"]=BookAuthor.iloc[:,0]"
   ]
  },
  {
   "cell_type": "markdown",
   "metadata": {},
   "source": [
    "We need to create a list that can connect the ISBN of the books that we merge to the ISBN of the books that remain. This way we can update the ISBN on the rating dataset."
   ]
  },
  {
   "cell_type": "code",
   "execution_count": 19,
   "metadata": {},
   "outputs": [],
   "source": [
    "duplicatetodrop=bookdataset[bookdataset[['Book-Title',\"Author-First-Name\"]].duplicated()][['ISBN','Book-Title',\"Author-First-Name\"]]"
   ]
  },
  {
   "cell_type": "code",
   "execution_count": 20,
   "metadata": {},
   "outputs": [
    {
     "data": {
      "text/plain": [
       "Book-Title                                     Author-First-Name\n",
       "Little Women                                   Louisa               21\n",
       "Wuthering Heights                              Emily                19\n",
       "Adventures of Huckleberry Finn                 Mark                 19\n",
       "The Secret Garden                              Frances              18\n",
       "Jane Eyre                                      Charlotte            17\n",
       "                                                                    ..\n",
       "Shogun                                         James                 1\n",
       "Shock Wave (Dirk Pitt Adventures (Paperback))  Clive                 1\n",
       "Shock                                          Robin                 1\n",
       "Shoah                                          Claude                1\n",
       "!%@ (A Nutshell handbook)                      Donnalyn              1\n",
       "Length: 16616, dtype: int64"
      ]
     },
     "execution_count": 20,
     "metadata": {},
     "output_type": "execute_result"
    }
   ],
   "source": [
    "duplicatetodrop[['Book-Title',\"Author-First-Name\"]].value_counts()"
   ]
  },
  {
   "cell_type": "code",
   "execution_count": 21,
   "metadata": {},
   "outputs": [],
   "source": [
    "booktokeep=bookdataset[bookdataset[['Book-Title',\"Author-First-Name\"]].duplicated(keep=False)][['ISBN','Book-Title',\"Author-First-Name\"]].drop_duplicates(subset=['Book-Title',\"Author-First-Name\"])"
   ]
  },
  {
   "cell_type": "code",
   "execution_count": 22,
   "metadata": {},
   "outputs": [
    {
     "data": {
      "text/plain": [
       "ISBN        Book-Title                               Author-First-Name\n",
       "B0001GDNCK  The Taming                               Jude                 1\n",
       "0399138293  Mortal Memory                            Thomas               1\n",
       "0399142282  Hornet's Nest                            Patricia             1\n",
       "0399142223  The Roaring Girl: Stories                Greg                 1\n",
       "0399142193  Executive Orders                         Tom                  1\n",
       "                                                                         ..\n",
       "067166154X  Sylvester and the Magic Pebble           William              1\n",
       "0671660632  Dirk Gently's Holistic Detective Agency  Douglas              1\n",
       "0671657860  Many Lives, Many Masters                 Brian                1\n",
       "0671656570  MY SWEET AUDRINA                         V.                   1\n",
       "0001046438  Liar                                     Stephen              1\n",
       "Length: 16616, dtype: int64"
      ]
     },
     "execution_count": 22,
     "metadata": {},
     "output_type": "execute_result"
    }
   ],
   "source": [
    "booktokeep.value_counts()"
   ]
  },
  {
   "cell_type": "code",
   "execution_count": 23,
   "metadata": {},
   "outputs": [],
   "source": [
    "bookdataset.drop_duplicates(subset=['Book-Title',\"Author-First-Name\"],inplace=True)"
   ]
  },
  {
   "cell_type": "code",
   "execution_count": 24,
   "metadata": {},
   "outputs": [
    {
     "data": {
      "text/html": [
       "<div>\n",
       "<style scoped>\n",
       "    .dataframe tbody tr th:only-of-type {\n",
       "        vertical-align: middle;\n",
       "    }\n",
       "\n",
       "    .dataframe tbody tr th {\n",
       "        vertical-align: top;\n",
       "    }\n",
       "\n",
       "    .dataframe thead th {\n",
       "        text-align: right;\n",
       "    }\n",
       "</style>\n",
       "<table border=\"1\" class=\"dataframe\">\n",
       "  <thead>\n",
       "    <tr style=\"text-align: right;\">\n",
       "      <th></th>\n",
       "      <th>ISBN</th>\n",
       "      <th>Book-Title</th>\n",
       "      <th>Book-Author</th>\n",
       "      <th>Year-Of-Publication</th>\n",
       "      <th>Publisher</th>\n",
       "      <th>Image-URL-S</th>\n",
       "      <th>Image-URL-M</th>\n",
       "      <th>Image-URL-L</th>\n",
       "      <th>Author-First-Name</th>\n",
       "    </tr>\n",
       "  </thead>\n",
       "  <tbody>\n",
       "    <tr>\n",
       "      <th>count</th>\n",
       "      <td>249931</td>\n",
       "      <td>249931</td>\n",
       "      <td>249931</td>\n",
       "      <td>249931.000000</td>\n",
       "      <td>249929</td>\n",
       "      <td>249931</td>\n",
       "      <td>249931</td>\n",
       "      <td>249931</td>\n",
       "      <td>249931</td>\n",
       "    </tr>\n",
       "    <tr>\n",
       "      <th>unique</th>\n",
       "      <td>249931</td>\n",
       "      <td>242154</td>\n",
       "      <td>101609</td>\n",
       "      <td>NaN</td>\n",
       "      <td>16591</td>\n",
       "      <td>249930</td>\n",
       "      <td>249930</td>\n",
       "      <td>249930</td>\n",
       "      <td>14994</td>\n",
       "    </tr>\n",
       "    <tr>\n",
       "      <th>top</th>\n",
       "      <td>0446605972</td>\n",
       "      <td>Selected Poems</td>\n",
       "      <td>William Shakespeare</td>\n",
       "      <td>NaN</td>\n",
       "      <td>Harlequin</td>\n",
       "      <td>http://images.amazon.com/images/P/051513628X.0...</td>\n",
       "      <td>http://images.amazon.com/images/P/051513628X.0...</td>\n",
       "      <td>http://images.amazon.com/images/P/051513628X.0...</td>\n",
       "      <td>John</td>\n",
       "    </tr>\n",
       "    <tr>\n",
       "      <th>freq</th>\n",
       "      <td>1</td>\n",
       "      <td>24</td>\n",
       "      <td>496</td>\n",
       "      <td>NaN</td>\n",
       "      <td>7506</td>\n",
       "      <td>2</td>\n",
       "      <td>2</td>\n",
       "      <td>2</td>\n",
       "      <td>5378</td>\n",
       "    </tr>\n",
       "    <tr>\n",
       "      <th>mean</th>\n",
       "      <td>NaN</td>\n",
       "      <td>NaN</td>\n",
       "      <td>NaN</td>\n",
       "      <td>1960.923991</td>\n",
       "      <td>NaN</td>\n",
       "      <td>NaN</td>\n",
       "      <td>NaN</td>\n",
       "      <td>NaN</td>\n",
       "      <td>NaN</td>\n",
       "    </tr>\n",
       "    <tr>\n",
       "      <th>std</th>\n",
       "      <td>NaN</td>\n",
       "      <td>NaN</td>\n",
       "      <td>NaN</td>\n",
       "      <td>253.720773</td>\n",
       "      <td>NaN</td>\n",
       "      <td>NaN</td>\n",
       "      <td>NaN</td>\n",
       "      <td>NaN</td>\n",
       "      <td>NaN</td>\n",
       "    </tr>\n",
       "    <tr>\n",
       "      <th>min</th>\n",
       "      <td>NaN</td>\n",
       "      <td>NaN</td>\n",
       "      <td>NaN</td>\n",
       "      <td>0.000000</td>\n",
       "      <td>NaN</td>\n",
       "      <td>NaN</td>\n",
       "      <td>NaN</td>\n",
       "      <td>NaN</td>\n",
       "      <td>NaN</td>\n",
       "    </tr>\n",
       "    <tr>\n",
       "      <th>25%</th>\n",
       "      <td>NaN</td>\n",
       "      <td>NaN</td>\n",
       "      <td>NaN</td>\n",
       "      <td>1989.000000</td>\n",
       "      <td>NaN</td>\n",
       "      <td>NaN</td>\n",
       "      <td>NaN</td>\n",
       "      <td>NaN</td>\n",
       "      <td>NaN</td>\n",
       "    </tr>\n",
       "    <tr>\n",
       "      <th>50%</th>\n",
       "      <td>NaN</td>\n",
       "      <td>NaN</td>\n",
       "      <td>NaN</td>\n",
       "      <td>1995.000000</td>\n",
       "      <td>NaN</td>\n",
       "      <td>NaN</td>\n",
       "      <td>NaN</td>\n",
       "      <td>NaN</td>\n",
       "      <td>NaN</td>\n",
       "    </tr>\n",
       "    <tr>\n",
       "      <th>75%</th>\n",
       "      <td>NaN</td>\n",
       "      <td>NaN</td>\n",
       "      <td>NaN</td>\n",
       "      <td>2000.000000</td>\n",
       "      <td>NaN</td>\n",
       "      <td>NaN</td>\n",
       "      <td>NaN</td>\n",
       "      <td>NaN</td>\n",
       "      <td>NaN</td>\n",
       "    </tr>\n",
       "    <tr>\n",
       "      <th>max</th>\n",
       "      <td>NaN</td>\n",
       "      <td>NaN</td>\n",
       "      <td>NaN</td>\n",
       "      <td>2050.000000</td>\n",
       "      <td>NaN</td>\n",
       "      <td>NaN</td>\n",
       "      <td>NaN</td>\n",
       "      <td>NaN</td>\n",
       "      <td>NaN</td>\n",
       "    </tr>\n",
       "  </tbody>\n",
       "</table>\n",
       "</div>"
      ],
      "text/plain": [
       "              ISBN      Book-Title          Book-Author  Year-Of-Publication  \\\n",
       "count       249931          249931               249931        249931.000000   \n",
       "unique      249931          242154               101609                  NaN   \n",
       "top     0446605972  Selected Poems  William Shakespeare                  NaN   \n",
       "freq             1              24                  496                  NaN   \n",
       "mean           NaN             NaN                  NaN          1960.923991   \n",
       "std            NaN             NaN                  NaN           253.720773   \n",
       "min            NaN             NaN                  NaN             0.000000   \n",
       "25%            NaN             NaN                  NaN          1989.000000   \n",
       "50%            NaN             NaN                  NaN          1995.000000   \n",
       "75%            NaN             NaN                  NaN          2000.000000   \n",
       "max            NaN             NaN                  NaN          2050.000000   \n",
       "\n",
       "        Publisher                                        Image-URL-S  \\\n",
       "count      249929                                             249931   \n",
       "unique      16591                                             249930   \n",
       "top     Harlequin  http://images.amazon.com/images/P/051513628X.0...   \n",
       "freq         7506                                                  2   \n",
       "mean          NaN                                                NaN   \n",
       "std           NaN                                                NaN   \n",
       "min           NaN                                                NaN   \n",
       "25%           NaN                                                NaN   \n",
       "50%           NaN                                                NaN   \n",
       "75%           NaN                                                NaN   \n",
       "max           NaN                                                NaN   \n",
       "\n",
       "                                              Image-URL-M  \\\n",
       "count                                              249931   \n",
       "unique                                             249930   \n",
       "top     http://images.amazon.com/images/P/051513628X.0...   \n",
       "freq                                                    2   \n",
       "mean                                                  NaN   \n",
       "std                                                   NaN   \n",
       "min                                                   NaN   \n",
       "25%                                                   NaN   \n",
       "50%                                                   NaN   \n",
       "75%                                                   NaN   \n",
       "max                                                   NaN   \n",
       "\n",
       "                                              Image-URL-L Author-First-Name  \n",
       "count                                              249931            249931  \n",
       "unique                                             249930             14994  \n",
       "top     http://images.amazon.com/images/P/051513628X.0...              John  \n",
       "freq                                                    2              5378  \n",
       "mean                                                  NaN               NaN  \n",
       "std                                                   NaN               NaN  \n",
       "min                                                   NaN               NaN  \n",
       "25%                                                   NaN               NaN  \n",
       "50%                                                   NaN               NaN  \n",
       "75%                                                   NaN               NaN  \n",
       "max                                                   NaN               NaN  "
      ]
     },
     "execution_count": 24,
     "metadata": {},
     "output_type": "execute_result"
    }
   ],
   "source": [
    "bookdataset.describe(include=\"all\")"
   ]
  },
  {
   "cell_type": "code",
   "execution_count": 25,
   "metadata": {},
   "outputs": [
    {
     "data": {
      "text/plain": [
       "Selected Poems                    24\n",
       "The Gift                          12\n",
       "Secrets                           11\n",
       "The Promise                       11\n",
       "Dinosaurs                         11\n",
       "                                  ..\n",
       "How to Heal the Hurt by Hating     1\n",
       "Die Pest.                          1\n",
       "The Tiger's Daughter               1\n",
       "Embrace and Conquer                1\n",
       "Goodbye Tsugumi                    1\n",
       "Name: Book-Title, Length: 242154, dtype: int64"
      ]
     },
     "execution_count": 25,
     "metadata": {},
     "output_type": "execute_result"
    }
   ],
   "source": [
    "bookdataset['Book-Title'].value_counts()"
   ]
  },
  {
   "cell_type": "code",
   "execution_count": 26,
   "metadata": {},
   "outputs": [],
   "source": [
    "booktokeep.rename(columns={\"ISBN\": \"ISBN to replace\"},inplace=True)"
   ]
  },
  {
   "cell_type": "code",
   "execution_count": 27,
   "metadata": {},
   "outputs": [
    {
     "data": {
      "text/html": [
       "<div>\n",
       "<style scoped>\n",
       "    .dataframe tbody tr th:only-of-type {\n",
       "        vertical-align: middle;\n",
       "    }\n",
       "\n",
       "    .dataframe tbody tr th {\n",
       "        vertical-align: top;\n",
       "    }\n",
       "\n",
       "    .dataframe thead th {\n",
       "        text-align: right;\n",
       "    }\n",
       "</style>\n",
       "<table border=\"1\" class=\"dataframe\">\n",
       "  <thead>\n",
       "    <tr style=\"text-align: right;\">\n",
       "      <th></th>\n",
       "      <th>ISBN to replace</th>\n",
       "      <th>Book-Title</th>\n",
       "      <th>Author-First-Name</th>\n",
       "    </tr>\n",
       "  </thead>\n",
       "  <tbody>\n",
       "    <tr>\n",
       "      <th>0</th>\n",
       "      <td>0195153448</td>\n",
       "      <td>Classical Mythology</td>\n",
       "      <td>Mark</td>\n",
       "    </tr>\n",
       "    <tr>\n",
       "      <th>5</th>\n",
       "      <td>0399135782</td>\n",
       "      <td>The Kitchen God's Wife</td>\n",
       "      <td>Amy</td>\n",
       "    </tr>\n",
       "    <tr>\n",
       "      <th>6</th>\n",
       "      <td>0425176428</td>\n",
       "      <td>What If?: The World's Foremost Military Histor...</td>\n",
       "      <td>Robert</td>\n",
       "    </tr>\n",
       "    <tr>\n",
       "      <th>9</th>\n",
       "      <td>074322678X</td>\n",
       "      <td>Where You'll Find Me: And Other Stories</td>\n",
       "      <td>Ann</td>\n",
       "    </tr>\n",
       "    <tr>\n",
       "      <th>14</th>\n",
       "      <td>1558746218</td>\n",
       "      <td>A Second Chicken Soup for the Woman's Soul (Ch...</td>\n",
       "      <td>Jack</td>\n",
       "    </tr>\n",
       "    <tr>\n",
       "      <th>...</th>\n",
       "      <td>...</td>\n",
       "      <td>...</td>\n",
       "      <td>...</td>\n",
       "    </tr>\n",
       "    <tr>\n",
       "      <th>266749</th>\n",
       "      <td>0807557722</td>\n",
       "      <td>Not Yet, Yvette</td>\n",
       "      <td>Helen</td>\n",
       "    </tr>\n",
       "    <tr>\n",
       "      <th>268150</th>\n",
       "      <td>0718809181</td>\n",
       "      <td>These Happy Golden Years</td>\n",
       "      <td>Laura</td>\n",
       "    </tr>\n",
       "    <tr>\n",
       "      <th>269206</th>\n",
       "      <td>083480087X</td>\n",
       "      <td>Human Revolution</td>\n",
       "      <td>Daisaku</td>\n",
       "    </tr>\n",
       "    <tr>\n",
       "      <th>269649</th>\n",
       "      <td>0673992004</td>\n",
       "      <td>Historical Viewpoints: Notable Articles from A...</td>\n",
       "      <td>John</td>\n",
       "    </tr>\n",
       "    <tr>\n",
       "      <th>269662</th>\n",
       "      <td>0805076557</td>\n",
       "      <td>Fight Club : A Novel</td>\n",
       "      <td>Chuck</td>\n",
       "    </tr>\n",
       "  </tbody>\n",
       "</table>\n",
       "<p>16616 rows × 3 columns</p>\n",
       "</div>"
      ],
      "text/plain": [
       "       ISBN to replace                                         Book-Title  \\\n",
       "0           0195153448                                Classical Mythology   \n",
       "5           0399135782                             The Kitchen God's Wife   \n",
       "6           0425176428  What If?: The World's Foremost Military Histor...   \n",
       "9           074322678X            Where You'll Find Me: And Other Stories   \n",
       "14          1558746218  A Second Chicken Soup for the Woman's Soul (Ch...   \n",
       "...                ...                                                ...   \n",
       "266749      0807557722                                    Not Yet, Yvette   \n",
       "268150      0718809181                           These Happy Golden Years   \n",
       "269206      083480087X                                   Human Revolution   \n",
       "269649      0673992004  Historical Viewpoints: Notable Articles from A...   \n",
       "269662      0805076557                               Fight Club : A Novel   \n",
       "\n",
       "       Author-First-Name  \n",
       "0                   Mark  \n",
       "5                    Amy  \n",
       "6                 Robert  \n",
       "9                    Ann  \n",
       "14                  Jack  \n",
       "...                  ...  \n",
       "266749             Helen  \n",
       "268150             Laura  \n",
       "269206           Daisaku  \n",
       "269649              John  \n",
       "269662             Chuck  \n",
       "\n",
       "[16616 rows x 3 columns]"
      ]
     },
     "execution_count": 27,
     "metadata": {},
     "output_type": "execute_result"
    }
   ],
   "source": [
    "booktokeep"
   ]
  },
  {
   "cell_type": "code",
   "execution_count": 28,
   "metadata": {},
   "outputs": [
    {
     "data": {
      "text/html": [
       "<div>\n",
       "<style scoped>\n",
       "    .dataframe tbody tr th:only-of-type {\n",
       "        vertical-align: middle;\n",
       "    }\n",
       "\n",
       "    .dataframe tbody tr th {\n",
       "        vertical-align: top;\n",
       "    }\n",
       "\n",
       "    .dataframe thead th {\n",
       "        text-align: right;\n",
       "    }\n",
       "</style>\n",
       "<table border=\"1\" class=\"dataframe\">\n",
       "  <thead>\n",
       "    <tr style=\"text-align: right;\">\n",
       "      <th></th>\n",
       "      <th>ISBN</th>\n",
       "      <th>Book-Title</th>\n",
       "      <th>Author-First-Name</th>\n",
       "    </tr>\n",
       "  </thead>\n",
       "  <tbody>\n",
       "    <tr>\n",
       "      <th>239</th>\n",
       "      <td>0743486226</td>\n",
       "      <td>Angels &amp; Demons</td>\n",
       "      <td>Dan</td>\n",
       "    </tr>\n",
       "    <tr>\n",
       "      <th>405</th>\n",
       "      <td>006101351X</td>\n",
       "      <td>The Perfect Storm : A True Story of Men Agains...</td>\n",
       "      <td>Sebastian</td>\n",
       "    </tr>\n",
       "    <tr>\n",
       "      <th>456</th>\n",
       "      <td>044021145X</td>\n",
       "      <td>The Firm</td>\n",
       "      <td>John</td>\n",
       "    </tr>\n",
       "    <tr>\n",
       "      <th>475</th>\n",
       "      <td>014023828X</td>\n",
       "      <td>The Tortilla Curtain</td>\n",
       "      <td>T.</td>\n",
       "    </tr>\n",
       "    <tr>\n",
       "      <th>526</th>\n",
       "      <td>039914739X</td>\n",
       "      <td>Isle of Dogs</td>\n",
       "      <td>Patricia</td>\n",
       "    </tr>\n",
       "    <tr>\n",
       "      <th>...</th>\n",
       "      <td>...</td>\n",
       "      <td>...</td>\n",
       "      <td>...</td>\n",
       "    </tr>\n",
       "    <tr>\n",
       "      <th>271242</th>\n",
       "      <td>0451625145</td>\n",
       "      <td>Thirteen Days: A Memoir of the Cuban Missile C...</td>\n",
       "      <td>Robert</td>\n",
       "    </tr>\n",
       "    <tr>\n",
       "      <th>271265</th>\n",
       "      <td>0195124995</td>\n",
       "      <td>For Cause and Comrades: Why Men Fought in the ...</td>\n",
       "      <td>James</td>\n",
       "    </tr>\n",
       "    <tr>\n",
       "      <th>271335</th>\n",
       "      <td>0441011799</td>\n",
       "      <td>Singularity Sky</td>\n",
       "      <td>Charles</td>\n",
       "    </tr>\n",
       "    <tr>\n",
       "      <th>271365</th>\n",
       "      <td>0395264707</td>\n",
       "      <td>Dreamsnake</td>\n",
       "      <td>Vonda</td>\n",
       "    </tr>\n",
       "    <tr>\n",
       "      <th>271374</th>\n",
       "      <td>0440400988</td>\n",
       "      <td>There's a Bat in Bunk Five</td>\n",
       "      <td>Paula</td>\n",
       "    </tr>\n",
       "  </tbody>\n",
       "</table>\n",
       "<p>21448 rows × 3 columns</p>\n",
       "</div>"
      ],
      "text/plain": [
       "              ISBN                                         Book-Title  \\\n",
       "239     0743486226                                    Angels & Demons   \n",
       "405     006101351X  The Perfect Storm : A True Story of Men Agains...   \n",
       "456     044021145X                                           The Firm   \n",
       "475     014023828X                               The Tortilla Curtain   \n",
       "526     039914739X                                       Isle of Dogs   \n",
       "...            ...                                                ...   \n",
       "271242  0451625145  Thirteen Days: A Memoir of the Cuban Missile C...   \n",
       "271265  0195124995  For Cause and Comrades: Why Men Fought in the ...   \n",
       "271335  0441011799                                    Singularity Sky   \n",
       "271365  0395264707                                         Dreamsnake   \n",
       "271374  0440400988                         There's a Bat in Bunk Five   \n",
       "\n",
       "       Author-First-Name  \n",
       "239                  Dan  \n",
       "405            Sebastian  \n",
       "456                 John  \n",
       "475                   T.  \n",
       "526             Patricia  \n",
       "...                  ...  \n",
       "271242            Robert  \n",
       "271265             James  \n",
       "271335           Charles  \n",
       "271365             Vonda  \n",
       "271374             Paula  \n",
       "\n",
       "[21448 rows x 3 columns]"
      ]
     },
     "execution_count": 28,
     "metadata": {},
     "output_type": "execute_result"
    }
   ],
   "source": [
    "duplicatetodrop"
   ]
  },
  {
   "cell_type": "code",
   "execution_count": 29,
   "metadata": {},
   "outputs": [],
   "source": [
    "isbnreplace=duplicatetodrop.merge(booktokeep, on='Book-Title', how='left')[['ISBN','ISBN to replace']]"
   ]
  },
  {
   "cell_type": "markdown",
   "metadata": {},
   "source": [
    "We will drop the publisher and year of publishing columns because they won't contribute much to our recommendation."
   ]
  },
  {
   "cell_type": "code",
   "execution_count": 30,
   "metadata": {},
   "outputs": [],
   "source": [
    "bookdatasettobemerge=bookdataset[['ISBN','Book-Title','Book-Author','Image-URL-S','Image-URL-M','Image-URL-L']]"
   ]
  },
  {
   "cell_type": "code",
   "execution_count": 31,
   "metadata": {},
   "outputs": [
    {
     "data": {
      "text/html": [
       "<div>\n",
       "<style scoped>\n",
       "    .dataframe tbody tr th:only-of-type {\n",
       "        vertical-align: middle;\n",
       "    }\n",
       "\n",
       "    .dataframe tbody tr th {\n",
       "        vertical-align: top;\n",
       "    }\n",
       "\n",
       "    .dataframe thead th {\n",
       "        text-align: right;\n",
       "    }\n",
       "</style>\n",
       "<table border=\"1\" class=\"dataframe\">\n",
       "  <thead>\n",
       "    <tr style=\"text-align: right;\">\n",
       "      <th></th>\n",
       "      <th>ISBN</th>\n",
       "      <th>ISBN to replace</th>\n",
       "    </tr>\n",
       "  </thead>\n",
       "  <tbody>\n",
       "    <tr>\n",
       "      <th>0</th>\n",
       "      <td>0743486226</td>\n",
       "      <td>0671027360</td>\n",
       "    </tr>\n",
       "    <tr>\n",
       "      <th>1</th>\n",
       "      <td>006101351X</td>\n",
       "      <td>0060977477</td>\n",
       "    </tr>\n",
       "    <tr>\n",
       "      <th>2</th>\n",
       "      <td>044021145X</td>\n",
       "      <td>0385416342</td>\n",
       "    </tr>\n",
       "    <tr>\n",
       "      <th>3</th>\n",
       "      <td>014023828X</td>\n",
       "      <td>0670856045</td>\n",
       "    </tr>\n",
       "    <tr>\n",
       "      <th>4</th>\n",
       "      <td>039914739X</td>\n",
       "      <td>0425182908</td>\n",
       "    </tr>\n",
       "    <tr>\n",
       "      <th>...</th>\n",
       "      <td>...</td>\n",
       "      <td>...</td>\n",
       "    </tr>\n",
       "    <tr>\n",
       "      <th>22611</th>\n",
       "      <td>0451625145</td>\n",
       "      <td>0451627946</td>\n",
       "    </tr>\n",
       "    <tr>\n",
       "      <th>22612</th>\n",
       "      <td>0195124995</td>\n",
       "      <td>0195090233</td>\n",
       "    </tr>\n",
       "    <tr>\n",
       "      <th>22613</th>\n",
       "      <td>0441011799</td>\n",
       "      <td>0441010725</td>\n",
       "    </tr>\n",
       "    <tr>\n",
       "      <th>22614</th>\n",
       "      <td>0395264707</td>\n",
       "      <td>0553296590</td>\n",
       "    </tr>\n",
       "    <tr>\n",
       "      <th>22615</th>\n",
       "      <td>0440400988</td>\n",
       "      <td>0440986311</td>\n",
       "    </tr>\n",
       "  </tbody>\n",
       "</table>\n",
       "<p>22616 rows × 2 columns</p>\n",
       "</div>"
      ],
      "text/plain": [
       "             ISBN ISBN to replace\n",
       "0      0743486226      0671027360\n",
       "1      006101351X      0060977477\n",
       "2      044021145X      0385416342\n",
       "3      014023828X      0670856045\n",
       "4      039914739X      0425182908\n",
       "...           ...             ...\n",
       "22611  0451625145      0451627946\n",
       "22612  0195124995      0195090233\n",
       "22613  0441011799      0441010725\n",
       "22614  0395264707      0553296590\n",
       "22615  0440400988      0440986311\n",
       "\n",
       "[22616 rows x 2 columns]"
      ]
     },
     "execution_count": 31,
     "metadata": {},
     "output_type": "execute_result"
    }
   ],
   "source": [
    "isbnreplace"
   ]
  },
  {
   "cell_type": "markdown",
   "metadata": {},
   "source": [
    "# The rating dataset"
   ]
  },
  {
   "cell_type": "markdown",
   "metadata": {},
   "source": [
    "Now, let's take a look at the rating dataset."
   ]
  },
  {
   "cell_type": "code",
   "execution_count": 32,
   "metadata": {},
   "outputs": [
    {
     "data": {
      "text/html": [
       "<div>\n",
       "<style scoped>\n",
       "    .dataframe tbody tr th:only-of-type {\n",
       "        vertical-align: middle;\n",
       "    }\n",
       "\n",
       "    .dataframe tbody tr th {\n",
       "        vertical-align: top;\n",
       "    }\n",
       "\n",
       "    .dataframe thead th {\n",
       "        text-align: right;\n",
       "    }\n",
       "</style>\n",
       "<table border=\"1\" class=\"dataframe\">\n",
       "  <thead>\n",
       "    <tr style=\"text-align: right;\">\n",
       "      <th></th>\n",
       "      <th>User-ID</th>\n",
       "      <th>ISBN</th>\n",
       "      <th>Book-Rating</th>\n",
       "    </tr>\n",
       "  </thead>\n",
       "  <tbody>\n",
       "    <tr>\n",
       "      <th>0</th>\n",
       "      <td>276725</td>\n",
       "      <td>034545104X</td>\n",
       "      <td>0</td>\n",
       "    </tr>\n",
       "    <tr>\n",
       "      <th>1</th>\n",
       "      <td>276726</td>\n",
       "      <td>0155061224</td>\n",
       "      <td>5</td>\n",
       "    </tr>\n",
       "    <tr>\n",
       "      <th>2</th>\n",
       "      <td>276727</td>\n",
       "      <td>0446520802</td>\n",
       "      <td>0</td>\n",
       "    </tr>\n",
       "    <tr>\n",
       "      <th>3</th>\n",
       "      <td>276729</td>\n",
       "      <td>052165615X</td>\n",
       "      <td>3</td>\n",
       "    </tr>\n",
       "    <tr>\n",
       "      <th>4</th>\n",
       "      <td>276729</td>\n",
       "      <td>0521795028</td>\n",
       "      <td>6</td>\n",
       "    </tr>\n",
       "  </tbody>\n",
       "</table>\n",
       "</div>"
      ],
      "text/plain": [
       "   User-ID        ISBN  Book-Rating\n",
       "0   276725  034545104X            0\n",
       "1   276726  0155061224            5\n",
       "2   276727  0446520802            0\n",
       "3   276729  052165615X            3\n",
       "4   276729  0521795028            6"
      ]
     },
     "execution_count": 32,
     "metadata": {},
     "output_type": "execute_result"
    }
   ],
   "source": [
    "ratingdataset.head() "
   ]
  },
  {
   "cell_type": "markdown",
   "metadata": {},
   "source": [
    "Now, let's replace the ISBN of reprint books to the one that we keep earlier."
   ]
  },
  {
   "cell_type": "code",
   "execution_count": 33,
   "metadata": {},
   "outputs": [],
   "source": [
    "for i in range(len(isbnreplace)):\n",
    "    ratingdataset[ratingdataset['ISBN']==isbnreplace['ISBN'][i]]['ISBN']=isbnreplace['ISBN to replace'][i]"
   ]
  },
  {
   "cell_type": "code",
   "execution_count": 34,
   "metadata": {},
   "outputs": [
    {
     "data": {
      "text/plain": [
       "0           034545104X\n",
       "1           0155061224\n",
       "2           0446520802\n",
       "3           052165615X\n",
       "4           0521795028\n",
       "              ...     \n",
       "1149775     1563526298\n",
       "1149776     0679447156\n",
       "1149777     0515107662\n",
       "1149778     0590442449\n",
       "1149779    05162443314\n",
       "Name: ISBN, Length: 1149780, dtype: object"
      ]
     },
     "execution_count": 34,
     "metadata": {},
     "output_type": "execute_result"
    }
   ],
   "source": [
    "ratingdataset['ISBN']"
   ]
  },
  {
   "cell_type": "code",
   "execution_count": 35,
   "metadata": {},
   "outputs": [
    {
     "name": "stdout",
     "output_type": "stream",
     "text": [
      "<class 'pandas.core.frame.DataFrame'>\n",
      "RangeIndex: 1149780 entries, 0 to 1149779\n",
      "Data columns (total 3 columns):\n",
      " #   Column       Non-Null Count    Dtype \n",
      "---  ------       --------------    ----- \n",
      " 0   User-ID      1149780 non-null  int64 \n",
      " 1   ISBN         1149780 non-null  object\n",
      " 2   Book-Rating  1149780 non-null  int64 \n",
      "dtypes: int64(2), object(1)\n",
      "memory usage: 26.3+ MB\n"
     ]
    }
   ],
   "source": [
    "ratingdataset.info()"
   ]
  },
  {
   "cell_type": "code",
   "execution_count": 36,
   "metadata": {},
   "outputs": [
    {
     "data": {
      "text/html": [
       "<div>\n",
       "<style scoped>\n",
       "    .dataframe tbody tr th:only-of-type {\n",
       "        vertical-align: middle;\n",
       "    }\n",
       "\n",
       "    .dataframe tbody tr th {\n",
       "        vertical-align: top;\n",
       "    }\n",
       "\n",
       "    .dataframe thead th {\n",
       "        text-align: right;\n",
       "    }\n",
       "</style>\n",
       "<table border=\"1\" class=\"dataframe\">\n",
       "  <thead>\n",
       "    <tr style=\"text-align: right;\">\n",
       "      <th></th>\n",
       "      <th>User-ID</th>\n",
       "      <th>ISBN</th>\n",
       "      <th>Book-Rating</th>\n",
       "    </tr>\n",
       "  </thead>\n",
       "  <tbody>\n",
       "    <tr>\n",
       "      <th>count</th>\n",
       "      <td>1.149780e+06</td>\n",
       "      <td>1149780</td>\n",
       "      <td>1.149780e+06</td>\n",
       "    </tr>\n",
       "    <tr>\n",
       "      <th>unique</th>\n",
       "      <td>NaN</td>\n",
       "      <td>340556</td>\n",
       "      <td>NaN</td>\n",
       "    </tr>\n",
       "    <tr>\n",
       "      <th>top</th>\n",
       "      <td>NaN</td>\n",
       "      <td>0971880107</td>\n",
       "      <td>NaN</td>\n",
       "    </tr>\n",
       "    <tr>\n",
       "      <th>freq</th>\n",
       "      <td>NaN</td>\n",
       "      <td>2502</td>\n",
       "      <td>NaN</td>\n",
       "    </tr>\n",
       "    <tr>\n",
       "      <th>mean</th>\n",
       "      <td>1.403864e+05</td>\n",
       "      <td>NaN</td>\n",
       "      <td>2.866950e+00</td>\n",
       "    </tr>\n",
       "    <tr>\n",
       "      <th>std</th>\n",
       "      <td>8.056228e+04</td>\n",
       "      <td>NaN</td>\n",
       "      <td>3.854184e+00</td>\n",
       "    </tr>\n",
       "    <tr>\n",
       "      <th>min</th>\n",
       "      <td>2.000000e+00</td>\n",
       "      <td>NaN</td>\n",
       "      <td>0.000000e+00</td>\n",
       "    </tr>\n",
       "    <tr>\n",
       "      <th>25%</th>\n",
       "      <td>7.034500e+04</td>\n",
       "      <td>NaN</td>\n",
       "      <td>0.000000e+00</td>\n",
       "    </tr>\n",
       "    <tr>\n",
       "      <th>50%</th>\n",
       "      <td>1.410100e+05</td>\n",
       "      <td>NaN</td>\n",
       "      <td>0.000000e+00</td>\n",
       "    </tr>\n",
       "    <tr>\n",
       "      <th>75%</th>\n",
       "      <td>2.110280e+05</td>\n",
       "      <td>NaN</td>\n",
       "      <td>7.000000e+00</td>\n",
       "    </tr>\n",
       "    <tr>\n",
       "      <th>max</th>\n",
       "      <td>2.788540e+05</td>\n",
       "      <td>NaN</td>\n",
       "      <td>1.000000e+01</td>\n",
       "    </tr>\n",
       "  </tbody>\n",
       "</table>\n",
       "</div>"
      ],
      "text/plain": [
       "             User-ID        ISBN   Book-Rating\n",
       "count   1.149780e+06     1149780  1.149780e+06\n",
       "unique           NaN      340556           NaN\n",
       "top              NaN  0971880107           NaN\n",
       "freq             NaN        2502           NaN\n",
       "mean    1.403864e+05         NaN  2.866950e+00\n",
       "std     8.056228e+04         NaN  3.854184e+00\n",
       "min     2.000000e+00         NaN  0.000000e+00\n",
       "25%     7.034500e+04         NaN  0.000000e+00\n",
       "50%     1.410100e+05         NaN  0.000000e+00\n",
       "75%     2.110280e+05         NaN  7.000000e+00\n",
       "max     2.788540e+05         NaN  1.000000e+01"
      ]
     },
     "execution_count": 36,
     "metadata": {},
     "output_type": "execute_result"
    }
   ],
   "source": [
    "ratingdataset.describe(include = 'all')"
   ]
  },
  {
   "cell_type": "markdown",
   "metadata": {},
   "source": [
    "Hmm it seems there are more unique ISBN in this rating dataset than the book dataset. We will remove the ISBN that does not appear to all the set when we merge the datasets."
   ]
  },
  {
   "cell_type": "markdown",
   "metadata": {},
   "source": [
    "# The user dataset"
   ]
  },
  {
   "cell_type": "code",
   "execution_count": 52,
   "metadata": {},
   "outputs": [],
   "source": [
    "userdataset=pd.read_csv('data/BX-Users.csv', sep=';',encoding='CP1252')"
   ]
  },
  {
   "cell_type": "code",
   "execution_count": 53,
   "metadata": {},
   "outputs": [
    {
     "data": {
      "text/html": [
       "<div>\n",
       "<style scoped>\n",
       "    .dataframe tbody tr th:only-of-type {\n",
       "        vertical-align: middle;\n",
       "    }\n",
       "\n",
       "    .dataframe tbody tr th {\n",
       "        vertical-align: top;\n",
       "    }\n",
       "\n",
       "    .dataframe thead th {\n",
       "        text-align: right;\n",
       "    }\n",
       "</style>\n",
       "<table border=\"1\" class=\"dataframe\">\n",
       "  <thead>\n",
       "    <tr style=\"text-align: right;\">\n",
       "      <th></th>\n",
       "      <th>User-ID</th>\n",
       "      <th>Location</th>\n",
       "      <th>Age</th>\n",
       "    </tr>\n",
       "  </thead>\n",
       "  <tbody>\n",
       "    <tr>\n",
       "      <th>0</th>\n",
       "      <td>1</td>\n",
       "      <td>nyc, new york, usa</td>\n",
       "      <td>NaN</td>\n",
       "    </tr>\n",
       "    <tr>\n",
       "      <th>1</th>\n",
       "      <td>2</td>\n",
       "      <td>stockton, california, usa</td>\n",
       "      <td>18.0</td>\n",
       "    </tr>\n",
       "    <tr>\n",
       "      <th>2</th>\n",
       "      <td>3</td>\n",
       "      <td>moscow, yukon territory, russia</td>\n",
       "      <td>NaN</td>\n",
       "    </tr>\n",
       "    <tr>\n",
       "      <th>3</th>\n",
       "      <td>4</td>\n",
       "      <td>porto, v.n.gaia, portugal</td>\n",
       "      <td>17.0</td>\n",
       "    </tr>\n",
       "    <tr>\n",
       "      <th>4</th>\n",
       "      <td>5</td>\n",
       "      <td>farnborough, hants, united kingdom</td>\n",
       "      <td>NaN</td>\n",
       "    </tr>\n",
       "  </tbody>\n",
       "</table>\n",
       "</div>"
      ],
      "text/plain": [
       "   User-ID                            Location   Age\n",
       "0        1                  nyc, new york, usa   NaN\n",
       "1        2           stockton, california, usa  18.0\n",
       "2        3     moscow, yukon territory, russia   NaN\n",
       "3        4           porto, v.n.gaia, portugal  17.0\n",
       "4        5  farnborough, hants, united kingdom   NaN"
      ]
     },
     "execution_count": 53,
     "metadata": {},
     "output_type": "execute_result"
    }
   ],
   "source": [
    "userdataset.head()"
   ]
  },
  {
   "cell_type": "code",
   "execution_count": 54,
   "metadata": {},
   "outputs": [
    {
     "name": "stdout",
     "output_type": "stream",
     "text": [
      "<class 'pandas.core.frame.DataFrame'>\n",
      "RangeIndex: 278858 entries, 0 to 278857\n",
      "Data columns (total 3 columns):\n",
      " #   Column    Non-Null Count   Dtype  \n",
      "---  ------    --------------   -----  \n",
      " 0   User-ID   278858 non-null  int64  \n",
      " 1   Location  278858 non-null  object \n",
      " 2   Age       168096 non-null  float64\n",
      "dtypes: float64(1), int64(1), object(1)\n",
      "memory usage: 6.4+ MB\n"
     ]
    }
   ],
   "source": [
    "userdataset.info()"
   ]
  },
  {
   "cell_type": "code",
   "execution_count": 55,
   "metadata": {},
   "outputs": [
    {
     "data": {
      "text/html": [
       "<div>\n",
       "<style scoped>\n",
       "    .dataframe tbody tr th:only-of-type {\n",
       "        vertical-align: middle;\n",
       "    }\n",
       "\n",
       "    .dataframe tbody tr th {\n",
       "        vertical-align: top;\n",
       "    }\n",
       "\n",
       "    .dataframe thead th {\n",
       "        text-align: right;\n",
       "    }\n",
       "</style>\n",
       "<table border=\"1\" class=\"dataframe\">\n",
       "  <thead>\n",
       "    <tr style=\"text-align: right;\">\n",
       "      <th></th>\n",
       "      <th>User-ID</th>\n",
       "      <th>Location</th>\n",
       "      <th>Age</th>\n",
       "    </tr>\n",
       "  </thead>\n",
       "  <tbody>\n",
       "    <tr>\n",
       "      <th>count</th>\n",
       "      <td>278858.00000</td>\n",
       "      <td>278858</td>\n",
       "      <td>168096.000000</td>\n",
       "    </tr>\n",
       "    <tr>\n",
       "      <th>unique</th>\n",
       "      <td>NaN</td>\n",
       "      <td>57339</td>\n",
       "      <td>NaN</td>\n",
       "    </tr>\n",
       "    <tr>\n",
       "      <th>top</th>\n",
       "      <td>NaN</td>\n",
       "      <td>london, england, united kingdom</td>\n",
       "      <td>NaN</td>\n",
       "    </tr>\n",
       "    <tr>\n",
       "      <th>freq</th>\n",
       "      <td>NaN</td>\n",
       "      <td>2506</td>\n",
       "      <td>NaN</td>\n",
       "    </tr>\n",
       "    <tr>\n",
       "      <th>mean</th>\n",
       "      <td>139429.50000</td>\n",
       "      <td>NaN</td>\n",
       "      <td>34.751434</td>\n",
       "    </tr>\n",
       "    <tr>\n",
       "      <th>std</th>\n",
       "      <td>80499.51502</td>\n",
       "      <td>NaN</td>\n",
       "      <td>14.428097</td>\n",
       "    </tr>\n",
       "    <tr>\n",
       "      <th>min</th>\n",
       "      <td>1.00000</td>\n",
       "      <td>NaN</td>\n",
       "      <td>0.000000</td>\n",
       "    </tr>\n",
       "    <tr>\n",
       "      <th>25%</th>\n",
       "      <td>69715.25000</td>\n",
       "      <td>NaN</td>\n",
       "      <td>24.000000</td>\n",
       "    </tr>\n",
       "    <tr>\n",
       "      <th>50%</th>\n",
       "      <td>139429.50000</td>\n",
       "      <td>NaN</td>\n",
       "      <td>32.000000</td>\n",
       "    </tr>\n",
       "    <tr>\n",
       "      <th>75%</th>\n",
       "      <td>209143.75000</td>\n",
       "      <td>NaN</td>\n",
       "      <td>44.000000</td>\n",
       "    </tr>\n",
       "    <tr>\n",
       "      <th>max</th>\n",
       "      <td>278858.00000</td>\n",
       "      <td>NaN</td>\n",
       "      <td>244.000000</td>\n",
       "    </tr>\n",
       "  </tbody>\n",
       "</table>\n",
       "</div>"
      ],
      "text/plain": [
       "             User-ID                         Location            Age\n",
       "count   278858.00000                           278858  168096.000000\n",
       "unique           NaN                            57339            NaN\n",
       "top              NaN  london, england, united kingdom            NaN\n",
       "freq             NaN                             2506            NaN\n",
       "mean    139429.50000                              NaN      34.751434\n",
       "std      80499.51502                              NaN      14.428097\n",
       "min          1.00000                              NaN       0.000000\n",
       "25%      69715.25000                              NaN      24.000000\n",
       "50%     139429.50000                              NaN      32.000000\n",
       "75%     209143.75000                              NaN      44.000000\n",
       "max     278858.00000                              NaN     244.000000"
      ]
     },
     "execution_count": 55,
     "metadata": {},
     "output_type": "execute_result"
    }
   ],
   "source": [
    "userdataset.describe(include = 'all')"
   ]
  },
  {
   "cell_type": "markdown",
   "metadata": {},
   "source": [
    "We will drop the \"Location\" column since they does not contribute much to our analysis. For the \"Age\" column, there are many null values. In addition, there are people with 0 age and 244 age. So, first, we will drop the change the \"Age\" that are smaller than 10 and bigger than 90 to null. Next, we will fill the null values using the distribution of the current \"Age\" values. "
   ]
  },
  {
   "cell_type": "code",
   "execution_count": 56,
   "metadata": {},
   "outputs": [],
   "source": [
    "userdataset.loc[userdataset['Age']<10,'Age']=np.nan"
   ]
  },
  {
   "cell_type": "code",
   "execution_count": 57,
   "metadata": {},
   "outputs": [],
   "source": [
    "userdataset.loc[userdataset['Age']>90,'Age']=np.nan"
   ]
  },
  {
   "cell_type": "code",
   "execution_count": 58,
   "metadata": {},
   "outputs": [],
   "source": [
    "isnull = userdataset.Age.isnull()\n",
    "sample = userdataset.Age.dropna().sample(isnull.sum(), replace=True).values\n",
    "userdataset.loc[isnull, 'Age'] = sample"
   ]
  },
  {
   "cell_type": "code",
   "execution_count": 59,
   "metadata": {},
   "outputs": [
    {
     "data": {
      "text/plain": [
       "<AxesSubplot:xlabel='Age', ylabel='Count'>"
      ]
     },
     "execution_count": 59,
     "metadata": {},
     "output_type": "execute_result"
    },
    {
     "data": {
      "image/png": "[encoded data removed]",
      "text/plain": [
       "<Figure size 432x288 with 1 Axes>"
      ]
     },
     "metadata": {
      "needs_background": "light"
     },
     "output_type": "display_data"
    }
   ],
   "source": [
    "sns.histplot(userdataset['Age'], binwidth=1)"
   ]
  },
  {
   "cell_type": "code",
   "execution_count": 60,
   "metadata": {},
   "outputs": [],
   "source": [
    "userdataset.drop(['Location'], axis=1,inplace=True)"
   ]
  },
  {
   "cell_type": "code",
   "execution_count": 61,
   "metadata": {},
   "outputs": [
    {
     "data": {
      "text/html": [
       "<div>\n",
       "<style scoped>\n",
       "    .dataframe tbody tr th:only-of-type {\n",
       "        vertical-align: middle;\n",
       "    }\n",
       "\n",
       "    .dataframe tbody tr th {\n",
       "        vertical-align: top;\n",
       "    }\n",
       "\n",
       "    .dataframe thead th {\n",
       "        text-align: right;\n",
       "    }\n",
       "</style>\n",
       "<table border=\"1\" class=\"dataframe\">\n",
       "  <thead>\n",
       "    <tr style=\"text-align: right;\">\n",
       "      <th></th>\n",
       "      <th>User-ID</th>\n",
       "      <th>Age</th>\n",
       "    </tr>\n",
       "  </thead>\n",
       "  <tbody>\n",
       "    <tr>\n",
       "      <th>count</th>\n",
       "      <td>278858.00000</td>\n",
       "      <td>278858.000000</td>\n",
       "    </tr>\n",
       "    <tr>\n",
       "      <th>mean</th>\n",
       "      <td>139429.50000</td>\n",
       "      <td>34.760276</td>\n",
       "    </tr>\n",
       "    <tr>\n",
       "      <th>std</th>\n",
       "      <td>80499.51502</td>\n",
       "      <td>13.565091</td>\n",
       "    </tr>\n",
       "    <tr>\n",
       "      <th>min</th>\n",
       "      <td>1.00000</td>\n",
       "      <td>10.000000</td>\n",
       "    </tr>\n",
       "    <tr>\n",
       "      <th>25%</th>\n",
       "      <td>69715.25000</td>\n",
       "      <td>24.000000</td>\n",
       "    </tr>\n",
       "    <tr>\n",
       "      <th>50%</th>\n",
       "      <td>139429.50000</td>\n",
       "      <td>32.000000</td>\n",
       "    </tr>\n",
       "    <tr>\n",
       "      <th>75%</th>\n",
       "      <td>209143.75000</td>\n",
       "      <td>44.000000</td>\n",
       "    </tr>\n",
       "    <tr>\n",
       "      <th>max</th>\n",
       "      <td>278858.00000</td>\n",
       "      <td>90.000000</td>\n",
       "    </tr>\n",
       "  </tbody>\n",
       "</table>\n",
       "</div>"
      ],
      "text/plain": [
       "            User-ID            Age\n",
       "count  278858.00000  278858.000000\n",
       "mean   139429.50000      34.760276\n",
       "std     80499.51502      13.565091\n",
       "min         1.00000      10.000000\n",
       "25%     69715.25000      24.000000\n",
       "50%    139429.50000      32.000000\n",
       "75%    209143.75000      44.000000\n",
       "max    278858.00000      90.000000"
      ]
     },
     "execution_count": 61,
     "metadata": {},
     "output_type": "execute_result"
    }
   ],
   "source": [
    "userdataset.describe(include = 'all')"
   ]
  },
  {
   "cell_type": "markdown",
   "metadata": {},
   "source": [
    "# Merging the data"
   ]
  },
  {
   "cell_type": "code",
   "execution_count": 62,
   "metadata": {},
   "outputs": [],
   "source": [
    "finaldata=ratingdataset.merge(bookdatasettobemerge, on='ISBN', how='left')"
   ]
  },
  {
   "cell_type": "code",
   "execution_count": 63,
   "metadata": {},
   "outputs": [],
   "source": [
    "finaldata=finaldata.merge(userdataset,on='User-ID', how='left')"
   ]
  },
  {
   "cell_type": "code",
   "execution_count": 64,
   "metadata": {},
   "outputs": [
    {
     "name": "stdout",
     "output_type": "stream",
     "text": [
      "<class 'pandas.core.frame.DataFrame'>\n",
      "Int64Index: 1149780 entries, 0 to 1149779\n",
      "Data columns (total 9 columns):\n",
      " #   Column       Non-Null Count    Dtype  \n",
      "---  ------       --------------    -----  \n",
      " 0   User-ID      1149780 non-null  int64  \n",
      " 1   ISBN         1149780 non-null  object \n",
      " 2   Book-Rating  1149780 non-null  int64  \n",
      " 3   Book-Title   912430 non-null   object \n",
      " 4   Book-Author  912430 non-null   object \n",
      " 5   Image-URL-S  912430 non-null   object \n",
      " 6   Image-URL-M  912430 non-null   object \n",
      " 7   Image-URL-L  912430 non-null   object \n",
      " 8   Age          1149780 non-null  float64\n",
      "dtypes: float64(1), int64(2), object(6)\n",
      "memory usage: 87.7+ MB\n"
     ]
    }
   ],
   "source": [
    "finaldata.info()"
   ]
  },
  {
   "cell_type": "markdown",
   "metadata": {},
   "source": [
    "As shown earlier, we don't have all the information for all the rated books. We will drop all the rows that have null in it."
   ]
  },
  {
   "cell_type": "code",
   "execution_count": 65,
   "metadata": {},
   "outputs": [],
   "source": [
    "finaldata.dropna(how='any',inplace=True)"
   ]
  },
  {
   "cell_type": "code",
   "execution_count": 66,
   "metadata": {},
   "outputs": [
    {
     "name": "stdout",
     "output_type": "stream",
     "text": [
      "<class 'pandas.core.frame.DataFrame'>\n",
      "Int64Index: 912430 entries, 0 to 1149778\n",
      "Data columns (total 9 columns):\n",
      " #   Column       Non-Null Count   Dtype  \n",
      "---  ------       --------------   -----  \n",
      " 0   User-ID      912430 non-null  int64  \n",
      " 1   ISBN         912430 non-null  object \n",
      " 2   Book-Rating  912430 non-null  int64  \n",
      " 3   Book-Title   912430 non-null  object \n",
      " 4   Book-Author  912430 non-null  object \n",
      " 5   Image-URL-S  912430 non-null  object \n",
      " 6   Image-URL-M  912430 non-null  object \n",
      " 7   Image-URL-L  912430 non-null  object \n",
      " 8   Age          912430 non-null  float64\n",
      "dtypes: float64(1), int64(2), object(6)\n",
      "memory usage: 69.6+ MB\n"
     ]
    }
   ],
   "source": [
    "finaldata.info()"
   ]
  },
  {
   "cell_type": "code",
   "execution_count": 67,
   "metadata": {},
   "outputs": [
    {
     "name": "stdout",
     "output_type": "stream",
     "text": [
      "A file already exists with this name.\n",
      "\n",
      "Do you want to overwrite? (Y/N)N\n",
      "\n",
      "Please re-run this cell with a new filename.\n"
     ]
    }
   ],
   "source": [
    "# save the data to a new csv file\n",
    "datapath = 'data'\n",
    "save_file(finaldata, 'book_recommendation.csv', datapath)"
   ]
  },
  {
   "cell_type": "markdown",
   "metadata": {},
   "source": [
    "# EDA"
   ]
  },
  {
   "cell_type": "markdown",
   "metadata": {},
   "source": [
    "## The users"
   ]
  },
  {
   "cell_type": "markdown",
   "metadata": {},
   "source": [
    "First, let's check how often the user rates the product."
   ]
  },
  {
   "cell_type": "code",
   "execution_count": 69,
   "metadata": {},
   "outputs": [
    {
     "data": {
      "text/plain": [
       "11676     9804\n",
       "198711    6084\n",
       "98391     5426\n",
       "153662    5392\n",
       "35859     5072\n",
       "          ... \n",
       "198573       1\n",
       "165712       1\n",
       "159565       1\n",
       "153418       1\n",
       "200545       1\n",
       "Name: User-ID, Length: 85242, dtype: int64"
      ]
     },
     "execution_count": 69,
     "metadata": {},
     "output_type": "execute_result"
    }
   ],
   "source": [
    "finaldata['User-ID'].value_counts()"
   ]
  },
  {
   "cell_type": "markdown",
   "metadata": {},
   "source": [
    "Someone actually rates over 9000 books. Let's plot this to see how this distribute."
   ]
  },
  {
   "cell_type": "code",
   "execution_count": 80,
   "metadata": {},
   "outputs": [],
   "source": [
    "countuser=pd.DataFrame({'User-ID':finaldata['User-ID'].value_counts().index, 'occurence':finaldata['User-ID'].value_counts().values})"
   ]
  },
  {
   "cell_type": "code",
   "execution_count": 92,
   "metadata": {},
   "outputs": [
    {
     "data": {
      "image/png": "[encoded data removed]",
      "text/plain": [
       "<Figure size 432x288 with 1 Axes>"
      ]
     },
     "metadata": {
      "needs_background": "light"
     },
     "output_type": "display_data"
    }
   ],
   "source": [
    "plt.hist(countuser['occurence'],alpha=0.5)\n",
    "plt.show()"
   ]
  },
  {
   "cell_type": "markdown",
   "metadata": {},
   "source": [
    "It seems that there are a lot of users with only 1 rating. Let's take a closer look."
   ]
  },
  {
   "cell_type": "code",
   "execution_count": 93,
   "metadata": {},
   "outputs": [
    {
     "data": {
      "text/plain": [
       "1       47349\n",
       "2       10238\n",
       "3        5491\n",
       "4        3608\n",
       "5        2450\n",
       "        ...  \n",
       "339         1\n",
       "403         1\n",
       "467         1\n",
       "659         1\n",
       "1054        1\n",
       "Name: occurence, Length: 617, dtype: int64"
      ]
     },
     "execution_count": 93,
     "metadata": {},
     "output_type": "execute_result"
    }
   ],
   "source": [
    "countuser['occurence'].value_counts()"
   ]
  },
  {
   "cell_type": "markdown",
   "metadata": {},
   "source": [
    "So the number of users who only have 1 rating is over half the entire users."
   ]
  },
  {
   "cell_type": "code",
   "execution_count": 98,
   "metadata": {},
   "outputs": [
    {
     "data": {
      "image/png": "[encoded data removed]",
      "text/plain": [
       "<Figure size 432x288 with 1 Axes>"
      ]
     },
     "metadata": {
      "needs_background": "light"
     },
     "output_type": "display_data"
    }
   ],
   "source": [
    "plt.hist(countuser[countuser['occurence']<20]['occurence'],alpha=0.5)\n",
    "plt.show()"
   ]
  },
  {
   "cell_type": "code",
   "execution_count": 107,
   "metadata": {},
   "outputs": [
    {
     "data": {
      "image/png": "[encoded data removed]",
      "text/plain": [
       "<Figure size 432x288 with 1 Axes>"
      ]
     },
     "metadata": {
      "needs_background": "light"
     },
     "output_type": "display_data"
    }
   ],
   "source": [
    "plt.hist(countuser[countuser['occurence']>200]['occurence'],alpha=0.5)\n",
    "plt.show()"
   ]
  },
  {
   "cell_type": "markdown",
   "metadata": {},
   "source": [
    "The percent of ratings with only 1 user is:"
   ]
  },
  {
   "cell_type": "code",
   "execution_count": 99,
   "metadata": {},
   "outputs": [
    {
     "data": {
      "text/plain": [
       "5.189329592407089"
      ]
     },
     "execution_count": 99,
     "metadata": {},
     "output_type": "execute_result"
    }
   ],
   "source": [
    "47349/912430*100"
   ]
  },
  {
   "cell_type": "markdown",
   "metadata": {},
   "source": [
    "For users with only 1 ratings, collaborative methods will be difficult to apply for them. I might consider dropping them since they only constitute about 5% of the rating."
   ]
  },
  {
   "cell_type": "markdown",
   "metadata": {},
   "source": [
    "## The books"
   ]
  },
  {
   "cell_type": "markdown",
   "metadata": {},
   "source": [
    "Next, let's check how often the books are rated."
   ]
  },
  {
   "cell_type": "code",
   "execution_count": 101,
   "metadata": {},
   "outputs": [
    {
     "data": {
      "text/plain": [
       "Wild Animus                                                                                                                      2502\n",
       "The Lovely Bones: A Novel                                                                                                        1295\n",
       "The Da Vinci Code                                                                                                                 887\n",
       "A Painted House                                                                                                                   831\n",
       "Divine Secrets of the Ya-Ya Sisterhood: A Novel                                                                                   732\n",
       "                                                                                                                                 ... \n",
       "Bulb Gardening With Derek Fell: Practical Advice and Personal Favorites from the Best-Selling Author and Television Show Host       1\n",
       "Pale as the Dead (Natasha Blake, 1)                                                                                                 1\n",
       "The Journal of the Proceedings of the President, 1793-1797                                                                          1\n",
       "Green Dolphin Street                                                                                                                1\n",
       "Was Mir Wichtig War: Letzte Aufzeichnungen Und Gesprache                                                                            1\n",
       "Name: Book-Title, Length: 241080, dtype: int64"
      ]
     },
     "execution_count": 101,
     "metadata": {},
     "output_type": "execute_result"
    }
   ],
   "source": [
    "finaldata['Book-Title'].value_counts()"
   ]
  },
  {
   "cell_type": "markdown",
   "metadata": {},
   "source": [
    "It turns out \"Wild Animus\" is the most rated book. There's a little interesting story about this book. It turns out the author self-published it with his own company and distributed it freely in 2004. Rumor said that the book was quite bad and people gave it away freely to others."
   ]
  },
  {
   "cell_type": "code",
   "execution_count": 102,
   "metadata": {},
   "outputs": [
    {
     "data": {
      "text/plain": [
       "1.0195843325339728"
      ]
     },
     "execution_count": 102,
     "metadata": {},
     "output_type": "execute_result"
    }
   ],
   "source": [
    "finaldata[finaldata['Book-Title']=='Wild Animus']['Book-Rating'].mean()"
   ]
  },
  {
   "cell_type": "code",
   "execution_count": 103,
   "metadata": {},
   "outputs": [],
   "source": [
    "countbook=pd.DataFrame({'User-ID':finaldata['Book-Title'].value_counts().index, 'occurence':finaldata['Book-Title'].value_counts().values})"
   ]
  },
  {
   "cell_type": "code",
   "execution_count": 104,
   "metadata": {},
   "outputs": [
    {
     "data": {
      "image/png": "[encoded data removed]",
      "text/plain": [
       "<Figure size 432x288 with 1 Axes>"
      ]
     },
     "metadata": {
      "needs_background": "light"
     },
     "output_type": "display_data"
    }
   ],
   "source": [
    "plt.hist(countbook['occurence'],alpha=0.5)\n",
    "plt.show()"
   ]
  },
  {
   "cell_type": "code",
   "execution_count": 105,
   "metadata": {},
   "outputs": [
    {
     "data": {
      "text/plain": [
       "1      130966\n",
       "2       43010\n",
       "3       19925\n",
       "4       11165\n",
       "5        7254\n",
       "        ...  \n",
       "579         1\n",
       "451         1\n",
       "321         1\n",
       "320         1\n",
       "571         1\n",
       "Name: occurence, Length: 323, dtype: int64"
      ]
     },
     "execution_count": 105,
     "metadata": {},
     "output_type": "execute_result"
    }
   ],
   "source": [
    "countbook['occurence'].value_counts()"
   ]
  },
  {
   "cell_type": "markdown",
   "metadata": {},
   "source": [
    "Similar to the case of users, there are many books with only 1 ratings. We will drop those because we have so little information on the book to give meaningful rating."
   ]
  },
  {
   "cell_type": "code",
   "execution_count": 108,
   "metadata": {},
   "outputs": [
    {
     "data": {
      "image/png": "[encoded data removed]",
      "text/plain": [
       "<Figure size 432x288 with 1 Axes>"
      ]
     },
     "metadata": {
      "needs_background": "light"
     },
     "output_type": "display_data"
    }
   ],
   "source": [
    "plt.hist(countuser[countbook['occurence']>100]['occurence'],alpha=0.5)\n",
    "plt.show()"
   ]
  },
  {
   "cell_type": "markdown",
   "metadata": {},
   "source": [
    "## The Ratings "
   ]
  },
  {
   "cell_type": "code",
   "execution_count": 113,
   "metadata": {},
   "outputs": [
    {
     "data": {
      "text/plain": [
       "0     574001\n",
       "8      80490\n",
       "10     62882\n",
       "7      58614\n",
       "9      53092\n",
       "5      40561\n",
       "6      28042\n",
       "4       6777\n",
       "3       4520\n",
       "2       2106\n",
       "1       1345\n",
       "Name: Book-Rating, dtype: int64"
      ]
     },
     "execution_count": 113,
     "metadata": {},
     "output_type": "execute_result"
    }
   ],
   "source": [
    "finaldata['Book-Rating'].value_counts()"
   ]
  },
  {
   "cell_type": "code",
   "execution_count": 115,
   "metadata": {},
   "outputs": [
    {
     "data": {
      "text/plain": [
       "<AxesSubplot:xlabel='Book-Rating', ylabel='Count'>"
      ]
     },
     "execution_count": 115,
     "metadata": {},
     "output_type": "execute_result"
    },
    {
     "data": {
      "image/png": "[encoded data removed]",
      "text/plain": [
       "<Figure size 432x288 with 1 Axes>"
      ]
     },
     "metadata": {
      "needs_background": "light"
     },
     "output_type": "display_data"
    }
   ],
   "source": [
    "sns.histplot(finaldata['Book-Rating'], binwidth=1)"
   ]
  },
  {
   "cell_type": "markdown",
   "metadata": {},
   "source": [
    "Hmm, the rating is actually quite bipolar. Perhaps we can turn the problem into a classification problem with books having rating 0,1,2,3 to be disliked; books with rating 4,5,6 to be neutral; and books with rating 7,8,9,10 to be liked."
   ]
  },
  {
   "cell_type": "code",
   "execution_count": null,
   "metadata": {},
   "outputs": [],
   "source": []
  }
 ],
 "metadata": {
  "kernelspec": {
   "display_name": "Python 3",
   "language": "python",
   "name": "python3"
  },
  "language_info": {
   "codemirror_mode": {
    "name": "ipython",
    "version": 3
   },
   "file_extension": ".py",
   "mimetype": "text/x-python",
   "name": "python",
   "nbconvert_exporter": "python",
   "pygments_lexer": "ipython3",
   "version": "3.8.5"
  }
 },
 "nbformat": 4,
 "nbformat_minor": 4
}
